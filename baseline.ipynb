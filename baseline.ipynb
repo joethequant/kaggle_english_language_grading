{
 "cells": [
  {
   "cell_type": "code",
   "execution_count": 1,
   "id": "82534a56",
   "metadata": {
    "_cell_guid": "b1076dfc-b9ad-4769-8c92-a6c4dae69d19",
    "_uuid": "8f2839f25d086af736a60e9eeb907d3b93b6e0e5",
    "execution": {
     "iopub.execute_input": "2022-12-03T20:31:51.726301Z",
     "iopub.status.busy": "2022-12-03T20:31:51.725653Z",
     "iopub.status.idle": "2022-12-03T20:31:52.858888Z",
     "shell.execute_reply": "2022-12-03T20:31:52.857427Z"
    },
    "papermill": {
     "duration": 1.1427,
     "end_time": "2022-12-03T20:31:52.862686",
     "exception": false,
     "start_time": "2022-12-03T20:31:51.719986",
     "status": "completed"
    },
    "tags": []
   },
   "outputs": [
    {
     "name": "stdout",
     "output_type": "stream",
     "text": [
      "/kaggle/input/feedback-prize-english-language-learning/sample_submission.csv\n",
      "/kaggle/input/feedback-prize-english-language-learning/train.csv\n",
      "/kaggle/input/feedback-prize-english-language-learning/test.csv\n"
     ]
    }
   ],
   "source": [
    "import numpy as np\n",
    "import pandas as pd \n",
    "\n",
    "#sklearn processing\n",
    "from sklearn.model_selection import KFold\n",
    "from sklearn.model_selection import train_test_split\n",
    "\n",
    "import os\n",
    "for dirname, _, filenames in os.walk('/kaggle/input'):\n",
    "    for filename in filenames:\n",
    "        print(os.path.join(dirname, filename))"
   ]
  },
  {
   "cell_type": "code",
   "execution_count": 2,
   "id": "bd6d0b34",
   "metadata": {
    "execution": {
     "iopub.execute_input": "2022-12-03T20:31:52.871038Z",
     "iopub.status.busy": "2022-12-03T20:31:52.870654Z",
     "iopub.status.idle": "2022-12-03T20:31:53.117657Z",
     "shell.execute_reply": "2022-12-03T20:31:53.116513Z"
    },
    "papermill": {
     "duration": 0.254113,
     "end_time": "2022-12-03T20:31:53.120342",
     "exception": false,
     "start_time": "2022-12-03T20:31:52.866229",
     "status": "completed"
    },
    "tags": []
   },
   "outputs": [],
   "source": [
    "sample_submission_raw = pd.read_csv('/kaggle/input/feedback-prize-english-language-learning/sample_submission.csv')\n",
    "train_data_raw = pd.read_csv('/kaggle/input/feedback-prize-english-language-learning/train.csv')\n",
    "test_data = pd.read_csv('/kaggle/input/feedback-prize-english-language-learning/test.csv')"
   ]
  },
  {
   "cell_type": "code",
   "execution_count": 3,
   "id": "265d6795",
   "metadata": {
    "execution": {
     "iopub.execute_input": "2022-12-03T20:31:53.128013Z",
     "iopub.status.busy": "2022-12-03T20:31:53.127293Z",
     "iopub.status.idle": "2022-12-03T20:31:53.166556Z",
     "shell.execute_reply": "2022-12-03T20:31:53.165465Z"
    },
    "papermill": {
     "duration": 0.045724,
     "end_time": "2022-12-03T20:31:53.169049",
     "exception": false,
     "start_time": "2022-12-03T20:31:53.123325",
     "status": "completed"
    },
    "tags": []
   },
   "outputs": [
    {
     "data": {
      "text/html": [
       "<div>\n",
       "<style scoped>\n",
       "    .dataframe tbody tr th:only-of-type {\n",
       "        vertical-align: middle;\n",
       "    }\n",
       "\n",
       "    .dataframe tbody tr th {\n",
       "        vertical-align: top;\n",
       "    }\n",
       "\n",
       "    .dataframe thead th {\n",
       "        text-align: right;\n",
       "    }\n",
       "</style>\n",
       "<table border=\"1\" class=\"dataframe\">\n",
       "  <thead>\n",
       "    <tr style=\"text-align: right;\">\n",
       "      <th></th>\n",
       "      <th>text_id</th>\n",
       "      <th>full_text</th>\n",
       "      <th>cohesion</th>\n",
       "      <th>syntax</th>\n",
       "      <th>vocabulary</th>\n",
       "      <th>phraseology</th>\n",
       "      <th>grammar</th>\n",
       "      <th>conventions</th>\n",
       "    </tr>\n",
       "  </thead>\n",
       "  <tbody>\n",
       "    <tr>\n",
       "      <th>3047</th>\n",
       "      <td>D9AAEE4C9BCC</td>\n",
       "      <td>Do you think that influencing other is imporan...</td>\n",
       "      <td>3.5</td>\n",
       "      <td>3.5</td>\n",
       "      <td>2.5</td>\n",
       "      <td>3.0</td>\n",
       "      <td>3.0</td>\n",
       "      <td>3.0</td>\n",
       "    </tr>\n",
       "    <tr>\n",
       "      <th>2848</th>\n",
       "      <td>CEF302996231</td>\n",
       "      <td>Dear Dr. Generic_Name,\\n\\nThank you for taking...</td>\n",
       "      <td>3.0</td>\n",
       "      <td>3.0</td>\n",
       "      <td>3.0</td>\n",
       "      <td>2.5</td>\n",
       "      <td>3.0</td>\n",
       "      <td>3.0</td>\n",
       "    </tr>\n",
       "    <tr>\n",
       "      <th>1138</th>\n",
       "      <td>584A4BB1E954</td>\n",
       "      <td>Should these summer projects be teacher-design...</td>\n",
       "      <td>2.5</td>\n",
       "      <td>3.0</td>\n",
       "      <td>3.0</td>\n",
       "      <td>2.5</td>\n",
       "      <td>3.0</td>\n",
       "      <td>3.0</td>\n",
       "    </tr>\n",
       "    <tr>\n",
       "      <th>2824</th>\n",
       "      <td>CDDCA13DB734</td>\n",
       "      <td>The determination make us to do something and ...</td>\n",
       "      <td>3.5</td>\n",
       "      <td>3.0</td>\n",
       "      <td>3.0</td>\n",
       "      <td>2.5</td>\n",
       "      <td>2.5</td>\n",
       "      <td>3.5</td>\n",
       "    </tr>\n",
       "    <tr>\n",
       "      <th>1298</th>\n",
       "      <td>63AB55DADABF</td>\n",
       "      <td>Do you think we should extend our school day? ...</td>\n",
       "      <td>4.0</td>\n",
       "      <td>4.0</td>\n",
       "      <td>4.0</td>\n",
       "      <td>3.5</td>\n",
       "      <td>4.5</td>\n",
       "      <td>3.5</td>\n",
       "    </tr>\n",
       "    <tr>\n",
       "      <th>...</th>\n",
       "      <td>...</td>\n",
       "      <td>...</td>\n",
       "      <td>...</td>\n",
       "      <td>...</td>\n",
       "      <td>...</td>\n",
       "      <td>...</td>\n",
       "      <td>...</td>\n",
       "      <td>...</td>\n",
       "    </tr>\n",
       "    <tr>\n",
       "      <th>3654</th>\n",
       "      <td>F58DF8739B42</td>\n",
       "      <td>Dear Mr. Principal today I want to talk abot h...</td>\n",
       "      <td>3.0</td>\n",
       "      <td>3.0</td>\n",
       "      <td>3.5</td>\n",
       "      <td>2.5</td>\n",
       "      <td>3.0</td>\n",
       "      <td>2.0</td>\n",
       "    </tr>\n",
       "    <tr>\n",
       "      <th>3034</th>\n",
       "      <td>D92BFF2AC7FD</td>\n",
       "      <td>Do you think is a good idea to change the scho...</td>\n",
       "      <td>3.5</td>\n",
       "      <td>3.5</td>\n",
       "      <td>3.0</td>\n",
       "      <td>3.0</td>\n",
       "      <td>3.0</td>\n",
       "      <td>3.0</td>\n",
       "    </tr>\n",
       "    <tr>\n",
       "      <th>2978</th>\n",
       "      <td>D5C7212A31FD</td>\n",
       "      <td>20/11/2010\\n\\nMr. reader`s how are you?\\n\\nThi...</td>\n",
       "      <td>2.5</td>\n",
       "      <td>2.5</td>\n",
       "      <td>2.0</td>\n",
       "      <td>2.5</td>\n",
       "      <td>2.0</td>\n",
       "      <td>2.0</td>\n",
       "    </tr>\n",
       "    <tr>\n",
       "      <th>1887</th>\n",
       "      <td>8E5E6211E4D6</td>\n",
       "      <td>Have you ever wondered how is it like being in...</td>\n",
       "      <td>3.0</td>\n",
       "      <td>3.0</td>\n",
       "      <td>3.5</td>\n",
       "      <td>3.5</td>\n",
       "      <td>3.5</td>\n",
       "      <td>3.0</td>\n",
       "    </tr>\n",
       "    <tr>\n",
       "      <th>644</th>\n",
       "      <td>314E6ED40C6A</td>\n",
       "      <td>I remember one time when I applied for one sch...</td>\n",
       "      <td>3.0</td>\n",
       "      <td>3.0</td>\n",
       "      <td>2.5</td>\n",
       "      <td>2.5</td>\n",
       "      <td>2.5</td>\n",
       "      <td>3.0</td>\n",
       "    </tr>\n",
       "  </tbody>\n",
       "</table>\n",
       "<p>2815 rows × 8 columns</p>\n",
       "</div>"
      ],
      "text/plain": [
       "           text_id                                          full_text  \\\n",
       "3047  D9AAEE4C9BCC  Do you think that influencing other is imporan...   \n",
       "2848  CEF302996231  Dear Dr. Generic_Name,\\n\\nThank you for taking...   \n",
       "1138  584A4BB1E954  Should these summer projects be teacher-design...   \n",
       "2824  CDDCA13DB734  The determination make us to do something and ...   \n",
       "1298  63AB55DADABF  Do you think we should extend our school day? ...   \n",
       "...            ...                                                ...   \n",
       "3654  F58DF8739B42  Dear Mr. Principal today I want to talk abot h...   \n",
       "3034  D92BFF2AC7FD  Do you think is a good idea to change the scho...   \n",
       "2978  D5C7212A31FD  20/11/2010\\n\\nMr. reader`s how are you?\\n\\nThi...   \n",
       "1887  8E5E6211E4D6  Have you ever wondered how is it like being in...   \n",
       "644   314E6ED40C6A  I remember one time when I applied for one sch...   \n",
       "\n",
       "      cohesion  syntax  vocabulary  phraseology  grammar  conventions  \n",
       "3047       3.5     3.5         2.5          3.0      3.0          3.0  \n",
       "2848       3.0     3.0         3.0          2.5      3.0          3.0  \n",
       "1138       2.5     3.0         3.0          2.5      3.0          3.0  \n",
       "2824       3.5     3.0         3.0          2.5      2.5          3.5  \n",
       "1298       4.0     4.0         4.0          3.5      4.5          3.5  \n",
       "...        ...     ...         ...          ...      ...          ...  \n",
       "3654       3.0     3.0         3.5          2.5      3.0          2.0  \n",
       "3034       3.5     3.5         3.0          3.0      3.0          3.0  \n",
       "2978       2.5     2.5         2.0          2.5      2.0          2.0  \n",
       "1887       3.0     3.0         3.5          3.5      3.5          3.0  \n",
       "644        3.0     3.0         2.5          2.5      2.5          3.0  \n",
       "\n",
       "[2815 rows x 8 columns]"
      ]
     },
     "execution_count": 3,
     "metadata": {},
     "output_type": "execute_result"
    }
   ],
   "source": [
    "\n",
    "train, test = train_test_split(train_data_raw, test_size=0.2, random_state=21) #20% for test\n",
    "train, val = train_test_split(train, test_size=0.1, random_state=21) # 10% for validation\n",
    "train"
   ]
  },
  {
   "cell_type": "code",
   "execution_count": 4,
   "id": "455447a2",
   "metadata": {
    "execution": {
     "iopub.execute_input": "2022-12-03T20:31:53.178043Z",
     "iopub.status.busy": "2022-12-03T20:31:53.176937Z",
     "iopub.status.idle": "2022-12-03T20:31:53.196888Z",
     "shell.execute_reply": "2022-12-03T20:31:53.195720Z"
    },
    "papermill": {
     "duration": 0.027169,
     "end_time": "2022-12-03T20:31:53.199610",
     "exception": false,
     "start_time": "2022-12-03T20:31:53.172441",
     "status": "completed"
    },
    "tags": []
   },
   "outputs": [],
   "source": [
    "def predict(df):\n",
    "    df['cohesion'] = df['cohesion'].median()\n",
    "    df['syntax'] = df['syntax'].median()\n",
    "    df['vocabulary'] = df['vocabulary'].median()\n",
    "    df['phraseology'] = df['phraseology'].median()\n",
    "    df['grammar'] = df['grammar'].median()\n",
    "    df['conventions'] = df['conventions'].median()\n",
    "    return df\n",
    "\n",
    "train_predictions = predict(train.copy())\n",
    "val_predictions = predict(val.copy())\n",
    "test_predictions = predict(test.copy())"
   ]
  },
  {
   "cell_type": "code",
   "execution_count": 5,
   "id": "3cfec808",
   "metadata": {
    "execution": {
     "iopub.execute_input": "2022-12-03T20:31:53.208790Z",
     "iopub.status.busy": "2022-12-03T20:31:53.207475Z",
     "iopub.status.idle": "2022-12-03T20:31:53.233518Z",
     "shell.execute_reply": "2022-12-03T20:31:53.232063Z"
    },
    "papermill": {
     "duration": 0.033327,
     "end_time": "2022-12-03T20:31:53.236225",
     "exception": false,
     "start_time": "2022-12-03T20:31:53.202898",
     "status": "completed"
    },
    "tags": []
   },
   "outputs": [
    {
     "name": "stdout",
     "output_type": "stream",
     "text": [
      "Train: (0.44, 0.66)\n",
      "Val: (0.49, 0.7)\n",
      "Test: (0.44, 0.66)\n"
     ]
    }
   ],
   "source": [
    "def calc_rmse(actual_df, predicted_df):\n",
    "    \n",
    "    parameters_to_predict = ['cohesion', 'syntax', 'vocabulary', 'phraseology', 'grammar', 'conventions']\n",
    "\n",
    "    rmse_scores = []\n",
    "    mse_scores = []\n",
    "    for parameter in parameters_to_predict:\n",
    "        rmse = np.sqrt(((actual_df[parameter] - predicted_df[parameter])**2).mean())\n",
    "        rmse_scores.append(rmse)\n",
    "        \n",
    "        mse = ((actual_df[parameter] - predicted_df[parameter])**2).mean()\n",
    "        mse_scores.append(mse)\n",
    "    \n",
    "    rmse = np.mean(rmse_scores).round(2)\n",
    "    mse = np.mean(mse_scores).round(2)\n",
    "\n",
    "    return mse, rmse \n",
    "\n",
    "train_scores = calc_rmse(train, train_predictions)\n",
    "val_scores   = calc_rmse(val, val_predictions)\n",
    "test_scores  = calc_rmse(test, test_predictions)\n",
    "\n",
    "print(f'Train: {train_scores}')\n",
    "print(f'Val: {val_scores}')\n",
    "print(f'Test: {test_scores}')"
   ]
  },
  {
   "cell_type": "code",
   "execution_count": 6,
   "id": "8b613802",
   "metadata": {
    "execution": {
     "iopub.execute_input": "2022-12-03T20:31:53.244596Z",
     "iopub.status.busy": "2022-12-03T20:31:53.244194Z",
     "iopub.status.idle": "2022-12-03T20:31:53.269130Z",
     "shell.execute_reply": "2022-12-03T20:31:53.268006Z"
    },
    "papermill": {
     "duration": 0.031884,
     "end_time": "2022-12-03T20:31:53.271448",
     "exception": false,
     "start_time": "2022-12-03T20:31:53.239564",
     "status": "completed"
    },
    "tags": []
   },
   "outputs": [
    {
     "data": {
      "text/html": [
       "<div>\n",
       "<style scoped>\n",
       "    .dataframe tbody tr th:only-of-type {\n",
       "        vertical-align: middle;\n",
       "    }\n",
       "\n",
       "    .dataframe tbody tr th {\n",
       "        vertical-align: top;\n",
       "    }\n",
       "\n",
       "    .dataframe thead th {\n",
       "        text-align: right;\n",
       "    }\n",
       "</style>\n",
       "<table border=\"1\" class=\"dataframe\">\n",
       "  <thead>\n",
       "    <tr style=\"text-align: right;\">\n",
       "      <th></th>\n",
       "      <th>text_id</th>\n",
       "      <th>full_text</th>\n",
       "      <th>cohesion</th>\n",
       "      <th>syntax</th>\n",
       "      <th>vocabulary</th>\n",
       "      <th>phraseology</th>\n",
       "      <th>grammar</th>\n",
       "      <th>conventions</th>\n",
       "    </tr>\n",
       "  </thead>\n",
       "  <tbody>\n",
       "    <tr>\n",
       "      <th>0</th>\n",
       "      <td>0000C359D63E</td>\n",
       "      <td>when a person has no experience on a job their...</td>\n",
       "      <td>3.0</td>\n",
       "      <td>3.0</td>\n",
       "      <td>3.0</td>\n",
       "      <td>3.0</td>\n",
       "      <td>3.0</td>\n",
       "      <td>3.0</td>\n",
       "    </tr>\n",
       "    <tr>\n",
       "      <th>1</th>\n",
       "      <td>000BAD50D026</td>\n",
       "      <td>Do you think students would benefit from being...</td>\n",
       "      <td>3.0</td>\n",
       "      <td>3.0</td>\n",
       "      <td>3.0</td>\n",
       "      <td>3.0</td>\n",
       "      <td>3.0</td>\n",
       "      <td>3.0</td>\n",
       "    </tr>\n",
       "    <tr>\n",
       "      <th>2</th>\n",
       "      <td>00367BB2546B</td>\n",
       "      <td>Thomas Jefferson once states that \"it is wonde...</td>\n",
       "      <td>3.0</td>\n",
       "      <td>3.0</td>\n",
       "      <td>3.0</td>\n",
       "      <td>3.0</td>\n",
       "      <td>3.0</td>\n",
       "      <td>3.0</td>\n",
       "    </tr>\n",
       "  </tbody>\n",
       "</table>\n",
       "</div>"
      ],
      "text/plain": [
       "        text_id                                          full_text  cohesion  \\\n",
       "0  0000C359D63E  when a person has no experience on a job their...       3.0   \n",
       "1  000BAD50D026  Do you think students would benefit from being...       3.0   \n",
       "2  00367BB2546B  Thomas Jefferson once states that \"it is wonde...       3.0   \n",
       "\n",
       "   syntax  vocabulary  phraseology  grammar  conventions  \n",
       "0     3.0         3.0          3.0      3.0          3.0  \n",
       "1     3.0         3.0          3.0      3.0          3.0  \n",
       "2     3.0         3.0          3.0      3.0          3.0  "
      ]
     },
     "execution_count": 6,
     "metadata": {},
     "output_type": "execute_result"
    }
   ],
   "source": [
    "def baseline_prediction(parameter):\n",
    "    return train[parameter].median()\n",
    "\n",
    "test_data['cohesion'] = baseline_prediction('cohesion')\n",
    "test_data['syntax'] = baseline_prediction('syntax')\n",
    "test_data['vocabulary'] = baseline_prediction('vocabulary')\n",
    "test_data['phraseology'] = baseline_prediction('phraseology')\n",
    "test_data['grammar'] = baseline_prediction('grammar')\n",
    "test_data['conventions'] = baseline_prediction('conventions')\n",
    "test_data"
   ]
  },
  {
   "cell_type": "code",
   "execution_count": 7,
   "id": "0480cf58",
   "metadata": {
    "execution": {
     "iopub.execute_input": "2022-12-03T20:31:53.280490Z",
     "iopub.status.busy": "2022-12-03T20:31:53.279712Z",
     "iopub.status.idle": "2022-12-03T20:31:53.292415Z",
     "shell.execute_reply": "2022-12-03T20:31:53.291089Z"
    },
    "papermill": {
     "duration": 0.020028,
     "end_time": "2022-12-03T20:31:53.295025",
     "exception": false,
     "start_time": "2022-12-03T20:31:53.274997",
     "status": "completed"
    },
    "tags": []
   },
   "outputs": [],
   "source": [
    "res = test_data.drop(\"full_text\",axis=1)\n",
    "res.to_csv(\"/kaggle/working/submission.csv\",index=False)"
   ]
  }
 ],
 "metadata": {
  "kernelspec": {
   "display_name": "Python 3",
   "language": "python",
   "name": "python3"
  },
  "language_info": {
   "codemirror_mode": {
    "name": "ipython",
    "version": 3
   },
   "file_extension": ".py",
   "mimetype": "text/x-python",
   "name": "python",
   "nbconvert_exporter": "python",
   "pygments_lexer": "ipython3",
   "version": "3.7.12"
  },
  "papermill": {
   "default_parameters": {},
   "duration": 11.146506,
   "end_time": "2022-12-03T20:31:54.021472",
   "environment_variables": {},
   "exception": null,
   "input_path": "__notebook__.ipynb",
   "output_path": "__notebook__.ipynb",
   "parameters": {},
   "start_time": "2022-12-03T20:31:42.874966",
   "version": "2.3.4"
  }
 },
 "nbformat": 4,
 "nbformat_minor": 5
}
