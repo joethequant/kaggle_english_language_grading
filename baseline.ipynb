{
 "cells": [
  {
   "cell_type": "code",
   "execution_count": 1,
   "id": "e8c998a5",
   "metadata": {
    "_cell_guid": "b1076dfc-b9ad-4769-8c92-a6c4dae69d19",
    "_uuid": "8f2839f25d086af736a60e9eeb907d3b93b6e0e5",
    "execution": {
     "iopub.execute_input": "2022-10-22T22:49:31.822351Z",
     "iopub.status.busy": "2022-10-22T22:49:31.821629Z",
     "iopub.status.idle": "2022-10-22T22:49:32.858835Z",
     "shell.execute_reply": "2022-10-22T22:49:32.857040Z"
    },
    "papermill": {
     "duration": 1.048257,
     "end_time": "2022-10-22T22:49:32.863286",
     "exception": false,
     "start_time": "2022-10-22T22:49:31.815029",
     "status": "completed"
    },
    "tags": []
   },
   "outputs": [
    {
     "name": "stdout",
     "output_type": "stream",
     "text": [
      "/kaggle/input/feedback-prize-english-language-learning/sample_submission.csv\n",
      "/kaggle/input/feedback-prize-english-language-learning/train.csv\n",
      "/kaggle/input/feedback-prize-english-language-learning/test.csv\n"
     ]
    }
   ],
   "source": [
    "import numpy as np\n",
    "import pandas as pd \n",
    "\n",
    "#sklearn processing\n",
    "from sklearn.model_selection import KFold\n",
    "\n",
    "import os\n",
    "for dirname, _, filenames in os.walk('/kaggle/input'):\n",
    "    for filename in filenames:\n",
    "        print(os.path.join(dirname, filename))"
   ]
  },
  {
   "cell_type": "code",
   "execution_count": 2,
   "id": "aeca2fdc",
   "metadata": {
    "execution": {
     "iopub.execute_input": "2022-10-22T22:49:32.872117Z",
     "iopub.status.busy": "2022-10-22T22:49:32.871123Z",
     "iopub.status.idle": "2022-10-22T22:49:33.120423Z",
     "shell.execute_reply": "2022-10-22T22:49:33.119289Z"
    },
    "papermill": {
     "duration": 0.25637,
     "end_time": "2022-10-22T22:49:33.123426",
     "exception": false,
     "start_time": "2022-10-22T22:49:32.867056",
     "status": "completed"
    },
    "tags": []
   },
   "outputs": [],
   "source": [
    "sample_submission_raw = pd.read_csv('/kaggle/input/feedback-prize-english-language-learning/sample_submission.csv')\n",
    "train_data_raw = pd.read_csv('/kaggle/input/feedback-prize-english-language-learning/train.csv')\n",
    "test_data = pd.read_csv('/kaggle/input/feedback-prize-english-language-learning/test.csv')"
   ]
  },
  {
   "cell_type": "code",
   "execution_count": 3,
   "id": "a136277c",
   "metadata": {
    "execution": {
     "iopub.execute_input": "2022-10-22T22:49:33.131378Z",
     "iopub.status.busy": "2022-10-22T22:49:33.130704Z",
     "iopub.status.idle": "2022-10-22T22:49:34.136452Z",
     "shell.execute_reply": "2022-10-22T22:49:34.135128Z"
    },
    "papermill": {
     "duration": 1.012949,
     "end_time": "2022-10-22T22:49:34.139380",
     "exception": false,
     "start_time": "2022-10-22T22:49:33.126431",
     "status": "completed"
    },
    "tags": []
   },
   "outputs": [],
   "source": [
    "kf = KFold(n_splits=5)\n",
    "kfolds_data = kf.split(train_data_raw)\n",
    "\n",
    "partition = 1\n",
    "for train_index, test_index in kfolds_data:\n",
    "    train = pd.DataFrame(train_data_raw.values[train_index])\n",
    "    train.columns = train_data_raw.columns\n",
    "\n",
    "    test = pd.DataFrame(train_data_raw.values[test_index])\n",
    "    test.columns = train_data_raw.columns\n",
    "    \n",
    "    train.to_csv(f'/kaggle/working/train_partition_{partition}.csv')\n",
    "    test.to_csv(f'/kaggle/working/test_partition_{partition}.csv')\n",
    "    \n",
    "    partition +=1\n",
    "    "
   ]
  },
  {
   "cell_type": "code",
   "execution_count": 4,
   "id": "b598fc35",
   "metadata": {
    "execution": {
     "iopub.execute_input": "2022-10-22T22:49:34.146625Z",
     "iopub.status.busy": "2022-10-22T22:49:34.146261Z",
     "iopub.status.idle": "2022-10-22T22:49:34.249472Z",
     "shell.execute_reply": "2022-10-22T22:49:34.248145Z"
    },
    "papermill": {
     "duration": 0.110248,
     "end_time": "2022-10-22T22:49:34.252608",
     "exception": false,
     "start_time": "2022-10-22T22:49:34.142360",
     "status": "completed"
    },
    "tags": []
   },
   "outputs": [],
   "source": [
    "train = pd.read_csv('/kaggle/working/train_partition_1.csv')\n",
    "test = pd.read_csv('/kaggle/working/test_partition_1.csv')"
   ]
  },
  {
   "cell_type": "code",
   "execution_count": 5,
   "id": "e6bac57b",
   "metadata": {
    "execution": {
     "iopub.execute_input": "2022-10-22T22:49:34.260508Z",
     "iopub.status.busy": "2022-10-22T22:49:34.260073Z",
     "iopub.status.idle": "2022-10-22T22:49:34.284893Z",
     "shell.execute_reply": "2022-10-22T22:49:34.283606Z"
    },
    "papermill": {
     "duration": 0.032053,
     "end_time": "2022-10-22T22:49:34.287606",
     "exception": false,
     "start_time": "2022-10-22T22:49:34.255553",
     "status": "completed"
    },
    "tags": []
   },
   "outputs": [
    {
     "data": {
      "text/plain": [
       "0.6653298094965044"
      ]
     },
     "execution_count": 5,
     "metadata": {},
     "output_type": "execute_result"
    }
   ],
   "source": [
    "def baseline_prediction(parameter):\n",
    "    return train[parameter].median()\n",
    "    \n",
    "def get_prediction(parameter, model='baseline'):\n",
    "    if model == 'baseline':\n",
    "        return baseline_prediction(parameter)\n",
    "    \n",
    "def calc_rmse(parameter, model='baseline'):\n",
    "    prediction = get_prediction(parameter, model)\n",
    "    \n",
    "    return np.sqrt(((train[parameter] - prediction)**2).mean())\n",
    "\n",
    "parameters_to_predict = ['cohesion', 'syntax', 'vocabulary', 'phraseology', 'grammar', 'conventions']\n",
    "\n",
    "rmse_scores = []\n",
    "for parameter in parameters_to_predict:\n",
    "    rmse_scores.append(calc_rmse(parameter))\n",
    "    \n",
    "np.mean(rmse_scores)"
   ]
  },
  {
   "cell_type": "code",
   "execution_count": 6,
   "id": "86b64071",
   "metadata": {
    "execution": {
     "iopub.execute_input": "2022-10-22T22:49:34.294811Z",
     "iopub.status.busy": "2022-10-22T22:49:34.294467Z",
     "iopub.status.idle": "2022-10-22T22:49:34.324247Z",
     "shell.execute_reply": "2022-10-22T22:49:34.323232Z"
    },
    "papermill": {
     "duration": 0.036183,
     "end_time": "2022-10-22T22:49:34.326712",
     "exception": false,
     "start_time": "2022-10-22T22:49:34.290529",
     "status": "completed"
    },
    "tags": []
   },
   "outputs": [
    {
     "data": {
      "text/html": [
       "<div>\n",
       "<style scoped>\n",
       "    .dataframe tbody tr th:only-of-type {\n",
       "        vertical-align: middle;\n",
       "    }\n",
       "\n",
       "    .dataframe tbody tr th {\n",
       "        vertical-align: top;\n",
       "    }\n",
       "\n",
       "    .dataframe thead th {\n",
       "        text-align: right;\n",
       "    }\n",
       "</style>\n",
       "<table border=\"1\" class=\"dataframe\">\n",
       "  <thead>\n",
       "    <tr style=\"text-align: right;\">\n",
       "      <th></th>\n",
       "      <th>text_id</th>\n",
       "      <th>full_text</th>\n",
       "      <th>cohesion</th>\n",
       "      <th>syntax</th>\n",
       "      <th>vocabulary</th>\n",
       "      <th>phraseology</th>\n",
       "      <th>grammar</th>\n",
       "      <th>conventions</th>\n",
       "    </tr>\n",
       "  </thead>\n",
       "  <tbody>\n",
       "    <tr>\n",
       "      <th>0</th>\n",
       "      <td>0000C359D63E</td>\n",
       "      <td>when a person has no experience on a job their...</td>\n",
       "      <td>3.0</td>\n",
       "      <td>3.0</td>\n",
       "      <td>3.0</td>\n",
       "      <td>3.0</td>\n",
       "      <td>3.0</td>\n",
       "      <td>3.0</td>\n",
       "    </tr>\n",
       "    <tr>\n",
       "      <th>1</th>\n",
       "      <td>000BAD50D026</td>\n",
       "      <td>Do you think students would benefit from being...</td>\n",
       "      <td>3.0</td>\n",
       "      <td>3.0</td>\n",
       "      <td>3.0</td>\n",
       "      <td>3.0</td>\n",
       "      <td>3.0</td>\n",
       "      <td>3.0</td>\n",
       "    </tr>\n",
       "    <tr>\n",
       "      <th>2</th>\n",
       "      <td>00367BB2546B</td>\n",
       "      <td>Thomas Jefferson once states that \"it is wonde...</td>\n",
       "      <td>3.0</td>\n",
       "      <td>3.0</td>\n",
       "      <td>3.0</td>\n",
       "      <td>3.0</td>\n",
       "      <td>3.0</td>\n",
       "      <td>3.0</td>\n",
       "    </tr>\n",
       "  </tbody>\n",
       "</table>\n",
       "</div>"
      ],
      "text/plain": [
       "        text_id                                          full_text  cohesion  \\\n",
       "0  0000C359D63E  when a person has no experience on a job their...       3.0   \n",
       "1  000BAD50D026  Do you think students would benefit from being...       3.0   \n",
       "2  00367BB2546B  Thomas Jefferson once states that \"it is wonde...       3.0   \n",
       "\n",
       "   syntax  vocabulary  phraseology  grammar  conventions  \n",
       "0     3.0         3.0          3.0      3.0          3.0  \n",
       "1     3.0         3.0          3.0      3.0          3.0  \n",
       "2     3.0         3.0          3.0      3.0          3.0  "
      ]
     },
     "execution_count": 6,
     "metadata": {},
     "output_type": "execute_result"
    }
   ],
   "source": [
    "test_data['cohesion'] = baseline_prediction('cohesion')\n",
    "test_data['syntax'] = baseline_prediction('syntax')\n",
    "test_data['vocabulary'] = baseline_prediction('vocabulary')\n",
    "test_data['phraseology'] = baseline_prediction('phraseology')\n",
    "test_data['grammar'] = baseline_prediction('grammar')\n",
    "test_data['conventions'] = baseline_prediction('conventions')\n",
    "test_data"
   ]
  },
  {
   "cell_type": "code",
   "execution_count": 7,
   "id": "cc7c21a8",
   "metadata": {
    "execution": {
     "iopub.execute_input": "2022-10-22T22:49:34.335018Z",
     "iopub.status.busy": "2022-10-22T22:49:34.333895Z",
     "iopub.status.idle": "2022-10-22T22:49:34.346113Z",
     "shell.execute_reply": "2022-10-22T22:49:34.345119Z"
    },
    "papermill": {
     "duration": 0.018714,
     "end_time": "2022-10-22T22:49:34.348594",
     "exception": false,
     "start_time": "2022-10-22T22:49:34.329880",
     "status": "completed"
    },
    "tags": []
   },
   "outputs": [],
   "source": [
    "res = test_data.drop(\"full_text\",axis=1)\n",
    "res.to_csv(\"/kaggle/working/submission.csv\",index=False)"
   ]
  }
 ],
 "metadata": {
  "kernelspec": {
   "display_name": "Python 3",
   "language": "python",
   "name": "python3"
  },
  "language_info": {
   "codemirror_mode": {
    "name": "ipython",
    "version": 3
   },
   "file_extension": ".py",
   "mimetype": "text/x-python",
   "name": "python",
   "nbconvert_exporter": "python",
   "pygments_lexer": "ipython3",
   "version": "3.7.12"
  },
  "papermill": {
   "default_parameters": {},
   "duration": 12.339106,
   "end_time": "2022-10-22T22:49:35.174492",
   "environment_variables": {},
   "exception": null,
   "input_path": "__notebook__.ipynb",
   "output_path": "__notebook__.ipynb",
   "parameters": {},
   "start_time": "2022-10-22T22:49:22.835386",
   "version": "2.3.4"
  }
 },
 "nbformat": 4,
 "nbformat_minor": 5
}
