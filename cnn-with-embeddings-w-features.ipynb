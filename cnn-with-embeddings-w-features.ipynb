{
 "cells": [
  {
   "cell_type": "code",
   "execution_count": 1,
   "id": "bc206435",
   "metadata": {
    "_cell_guid": "b1076dfc-b9ad-4769-8c92-a6c4dae69d19",
    "_uuid": "8f2839f25d086af736a60e9eeb907d3b93b6e0e5",
    "execution": {
     "iopub.execute_input": "2022-11-13T18:29:35.842124Z",
     "iopub.status.busy": "2022-11-13T18:29:35.841484Z",
     "iopub.status.idle": "2022-11-13T18:29:42.729812Z",
     "shell.execute_reply": "2022-11-13T18:29:42.726652Z"
    },
    "papermill": {
     "duration": 6.901413,
     "end_time": "2022-11-13T18:29:42.732803",
     "exception": false,
     "start_time": "2022-11-13T18:29:35.831390",
     "status": "completed"
    },
    "tags": []
   },
   "outputs": [
    {
     "name": "stdout",
     "output_type": "stream",
     "text": [
      "/kaggle/input/feedback-prize-english-language-learning/sample_submission.csv\n",
      "/kaggle/input/feedback-prize-english-language-learning/train.csv\n",
      "/kaggle/input/feedback-prize-english-language-learning/test.csv\n",
      "/kaggle/input/bert-base-multilingual-cased/bert-base-multilingual-cased/config.json\n",
      "/kaggle/input/bert-base-multilingual-cased/bert-base-multilingual-cased/tokenizer.json\n",
      "/kaggle/input/bert-base-multilingual-cased/bert-base-multilingual-cased/tf_model.h5\n",
      "/kaggle/input/bert-base-multilingual-cased/bert-base-multilingual-cased/pytorch_model.bin\n",
      "/kaggle/input/bert-base-multilingual-cased/bert-base-multilingual-cased/vocab.txt\n",
      "/kaggle/input/bert-base-multilingual-cased/bert-base-multilingual-cased/flax_model.msgpack\n",
      "/kaggle/input/bertbasecased/config.json\n",
      "/kaggle/input/bertbasecased/tokenizer.json\n",
      "/kaggle/input/bertbasecased/tokenizer_config.json\n",
      "/kaggle/input/bertbasecased/pytorch_model.bin\n",
      "/kaggle/input/bertbasecased/vocab.txt\n"
     ]
    }
   ],
   "source": [
    "import numpy as np\n",
    "import pandas as pd \n",
    "from sklearn.preprocessing import StandardScaler\n",
    "\n",
    "from transformers import BertTokenizer\n",
    "\n",
    "import tensorflow as tf\n",
    "from tensorflow.keras import Sequential\n",
    "from tensorflow.keras.layers import Dense\n",
    "from tensorflow.keras.layers import Embedding\n",
    "from tensorflow.keras.layers import GlobalAveragePooling1D\n",
    "from tensorflow.keras.layers import Dropout\n",
    "from tensorflow.keras.layers import Conv1D\n",
    "from tensorflow.keras.layers import MaxPooling1D\n",
    "from tensorflow.keras.layers import GlobalAveragePooling1D\n",
    "from tensorflow import keras\n",
    "from tensorflow.keras import layers\n",
    "\n",
    "# plots and images\n",
    "import seaborn as sns\n",
    "import matplotlib.pyplot as plt\n",
    "from IPython.display import Image\n",
    "\n",
    "#sklearn processing\n",
    "from sklearn.model_selection import KFold\n",
    "\n",
    "import os\n",
    "for dirname, _, filenames in os.walk('/kaggle/input'):\n",
    "    for filename in filenames:\n",
    "        print(os.path.join(dirname, filename))"
   ]
  },
  {
   "cell_type": "code",
   "execution_count": 2,
   "id": "eb357e54",
   "metadata": {
    "execution": {
     "iopub.execute_input": "2022-11-13T18:29:42.742847Z",
     "iopub.status.busy": "2022-11-13T18:29:42.741704Z",
     "iopub.status.idle": "2022-11-13T18:29:42.962953Z",
     "shell.execute_reply": "2022-11-13T18:29:42.961999Z"
    },
    "papermill": {
     "duration": 0.228383,
     "end_time": "2022-11-13T18:29:42.965547",
     "exception": false,
     "start_time": "2022-11-13T18:29:42.737164",
     "status": "completed"
    },
    "tags": []
   },
   "outputs": [],
   "source": [
    "sample_submission_raw = pd.read_csv('/kaggle/input/feedback-prize-english-language-learning/sample_submission.csv')\n",
    "train_data_raw = pd.read_csv('/kaggle/input/feedback-prize-english-language-learning/train.csv')\n",
    "test = pd.read_csv('/kaggle/input/feedback-prize-english-language-learning/test.csv')"
   ]
  },
  {
   "cell_type": "code",
   "execution_count": 3,
   "id": "ad9eb00e",
   "metadata": {
    "execution": {
     "iopub.execute_input": "2022-11-13T18:29:42.975754Z",
     "iopub.status.busy": "2022-11-13T18:29:42.974063Z",
     "iopub.status.idle": "2022-11-13T18:29:43.568497Z",
     "shell.execute_reply": "2022-11-13T18:29:43.567578Z"
    },
    "papermill": {
     "duration": 0.601452,
     "end_time": "2022-11-13T18:29:43.570835",
     "exception": false,
     "start_time": "2022-11-13T18:29:42.969383",
     "status": "completed"
    },
    "tags": []
   },
   "outputs": [],
   "source": [
    "kf = KFold(n_splits=5)\n",
    "kfolds_data = kf.split(train_data_raw)\n",
    "\n",
    "partition = 1\n",
    "for train_index, test_index in kfolds_data:\n",
    "    train = pd.DataFrame(train_data_raw.values[train_index])\n",
    "    train.columns = train_data_raw.columns\n",
    "\n",
    "#     test = pd.DataFrame(train_data_raw.values[test_index])\n",
    "#     test.columns = train_data_raw.columns\n",
    "    \n",
    "    train.to_csv(f'/kaggle/working/train_partition_{partition}.csv')\n",
    "#     test.to_csv(f'/kaggle/working/test_partition_{partition}.csv')\n",
    "    \n",
    "    partition +=1\n",
    "    \n",
    "train = pd.read_csv('/kaggle/working/train_partition_1.csv').iloc[:,1:]"
   ]
  },
  {
   "cell_type": "code",
   "execution_count": 4,
   "id": "f756714f",
   "metadata": {
    "execution": {
     "iopub.execute_input": "2022-11-13T18:29:43.581311Z",
     "iopub.status.busy": "2022-11-13T18:29:43.579662Z",
     "iopub.status.idle": "2022-11-13T18:30:19.867607Z",
     "shell.execute_reply": "2022-11-13T18:30:19.866642Z"
    },
    "papermill": {
     "duration": 36.295114,
     "end_time": "2022-11-13T18:30:19.869838",
     "exception": false,
     "start_time": "2022-11-13T18:29:43.574724",
     "status": "completed"
    },
    "tags": []
   },
   "outputs": [
    {
     "name": "stderr",
     "output_type": "stream",
     "text": [
      "2022-11-13 18:30:16.891516: I tensorflow/stream_executor/cuda/cuda_gpu_executor.cc:937] successful NUMA node read from SysFS had negative value (-1), but there must be at least one NUMA node, so returning NUMA node zero\n",
      "2022-11-13 18:30:16.991630: I tensorflow/stream_executor/cuda/cuda_gpu_executor.cc:937] successful NUMA node read from SysFS had negative value (-1), but there must be at least one NUMA node, so returning NUMA node zero\n",
      "2022-11-13 18:30:16.992361: I tensorflow/stream_executor/cuda/cuda_gpu_executor.cc:937] successful NUMA node read from SysFS had negative value (-1), but there must be at least one NUMA node, so returning NUMA node zero\n",
      "2022-11-13 18:30:16.994791: I tensorflow/core/platform/cpu_feature_guard.cc:142] This TensorFlow binary is optimized with oneAPI Deep Neural Network Library (oneDNN) to use the following CPU instructions in performance-critical operations:  AVX2 AVX512F FMA\n",
      "To enable them in other operations, rebuild TensorFlow with the appropriate compiler flags.\n",
      "2022-11-13 18:30:16.995128: I tensorflow/stream_executor/cuda/cuda_gpu_executor.cc:937] successful NUMA node read from SysFS had negative value (-1), but there must be at least one NUMA node, so returning NUMA node zero\n",
      "2022-11-13 18:30:16.995859: I tensorflow/stream_executor/cuda/cuda_gpu_executor.cc:937] successful NUMA node read from SysFS had negative value (-1), but there must be at least one NUMA node, so returning NUMA node zero\n",
      "2022-11-13 18:30:16.996532: I tensorflow/stream_executor/cuda/cuda_gpu_executor.cc:937] successful NUMA node read from SysFS had negative value (-1), but there must be at least one NUMA node, so returning NUMA node zero\n",
      "2022-11-13 18:30:19.214311: I tensorflow/stream_executor/cuda/cuda_gpu_executor.cc:937] successful NUMA node read from SysFS had negative value (-1), but there must be at least one NUMA node, so returning NUMA node zero\n",
      "2022-11-13 18:30:19.215230: I tensorflow/stream_executor/cuda/cuda_gpu_executor.cc:937] successful NUMA node read from SysFS had negative value (-1), but there must be at least one NUMA node, so returning NUMA node zero\n",
      "2022-11-13 18:30:19.215961: I tensorflow/stream_executor/cuda/cuda_gpu_executor.cc:937] successful NUMA node read from SysFS had negative value (-1), but there must be at least one NUMA node, so returning NUMA node zero\n",
      "2022-11-13 18:30:19.216596: I tensorflow/core/common_runtime/gpu/gpu_device.cc:1510] Created device /job:localhost/replica:0/task:0/device:GPU:0 with 15401 MB memory:  -> device: 0, name: Tesla P100-PCIE-16GB, pci bus id: 0000:00:04.0, compute capability: 6.0\n"
     ]
    }
   ],
   "source": [
    "#tokenizer = BertTokenizer.from_pretrained(\"bert-base-cased\")\n",
    "tokenizer = BertTokenizer.from_pretrained(\"/kaggle/input/bertbasecased/\")\n",
    "\n",
    "#essay =  train['full_text'][0]\n",
    "longest_essay_length = train['full_text'].apply(len).max()\n",
    "\n",
    "def tokenize(essays):\n",
    "    return [\n",
    "            tokenizer.encode(\n",
    "            x,\n",
    "            padding='max_length',\n",
    "            max_length=longest_essay_length,\n",
    "            truncation=True,\n",
    "            add_special_tokens= False, #if treue [CLS] and [SEP] get added to each tokenizing.\n",
    "            ) for x in essays]\n",
    "\n",
    "encoded_essays_train = tokenize(train['full_text'])\n",
    "#tokenizer.decode(essay_word_indices)\n",
    "\n",
    "#sc_x_essays = StandardScaler()\n",
    "#sc_x_essays_train = sc_x_essays.fit_transform(encoded_essays_train)\n",
    "encoded_essays_train = tf.convert_to_tensor(encoded_essays_train)\n",
    "\n",
    "essay_length_train = train['full_text'].str.len()\n",
    "essay_length_train = tf.convert_to_tensor(essay_length_train)\n",
    "\n",
    "encoded_essays_test = tokenize(test['full_text'])\n",
    "encoded_essays_test = tf.convert_to_tensor(encoded_essays_test)\n",
    "\n",
    "essay_length_test = test['full_text'].str.len()\n",
    "essay_length_test = tf.convert_to_tensor(essay_length_test)\n",
    "\n",
    "sc_y = StandardScaler()\n",
    "y_train = sc_y.fit_transform(train[['cohesion', 'syntax', 'vocabulary', 'phraseology', 'grammar', 'conventions']])\n",
    "\n",
    "encoded_cohesion_score = y_train[:,0]\n",
    "encoded_syntax_score = y_train[:,1]\n",
    "encoded_vocabulary_score = y_train[:,2]\n",
    "encoded_phraseology_score = y_train[:,3]\n",
    "encoded_grammar_score = y_train[:,4]\n",
    "encoded_conventions_score = y_train[:,5]\n"
   ]
  },
  {
   "cell_type": "code",
   "execution_count": 5,
   "id": "5b76a548",
   "metadata": {
    "execution": {
     "iopub.execute_input": "2022-11-13T18:30:19.879181Z",
     "iopub.status.busy": "2022-11-13T18:30:19.878881Z",
     "iopub.status.idle": "2022-11-13T18:30:19.916987Z",
     "shell.execute_reply": "2022-11-13T18:30:19.915840Z"
    },
    "papermill": {
     "duration": 0.045697,
     "end_time": "2022-11-13T18:30:19.919659",
     "exception": false,
     "start_time": "2022-11-13T18:30:19.873962",
     "status": "completed"
    },
    "tags": []
   },
   "outputs": [
    {
     "data": {
      "text/html": [
       "<div>\n",
       "<style scoped>\n",
       "    .dataframe tbody tr th:only-of-type {\n",
       "        vertical-align: middle;\n",
       "    }\n",
       "\n",
       "    .dataframe tbody tr th {\n",
       "        vertical-align: top;\n",
       "    }\n",
       "\n",
       "    .dataframe thead th {\n",
       "        text-align: right;\n",
       "    }\n",
       "</style>\n",
       "<table border=\"1\" class=\"dataframe\">\n",
       "  <thead>\n",
       "    <tr style=\"text-align: right;\">\n",
       "      <th></th>\n",
       "      <th>0</th>\n",
       "      <th>1</th>\n",
       "      <th>2</th>\n",
       "      <th>3</th>\n",
       "      <th>4</th>\n",
       "      <th>5</th>\n",
       "    </tr>\n",
       "  </thead>\n",
       "  <tbody>\n",
       "    <tr>\n",
       "      <th>count</th>\n",
       "      <td>3128.0</td>\n",
       "      <td>3128.0</td>\n",
       "      <td>3128.0</td>\n",
       "      <td>3128.0</td>\n",
       "      <td>3128.0</td>\n",
       "      <td>3128.0</td>\n",
       "    </tr>\n",
       "    <tr>\n",
       "      <th>mean</th>\n",
       "      <td>-0.0</td>\n",
       "      <td>0.0</td>\n",
       "      <td>0.0</td>\n",
       "      <td>-0.0</td>\n",
       "      <td>-0.0</td>\n",
       "      <td>-0.0</td>\n",
       "    </tr>\n",
       "    <tr>\n",
       "      <th>std</th>\n",
       "      <td>1.0</td>\n",
       "      <td>1.0</td>\n",
       "      <td>1.0</td>\n",
       "      <td>1.0</td>\n",
       "      <td>1.0</td>\n",
       "      <td>1.0</td>\n",
       "    </tr>\n",
       "    <tr>\n",
       "      <th>min</th>\n",
       "      <td>-3.0</td>\n",
       "      <td>-3.0</td>\n",
       "      <td>-4.0</td>\n",
       "      <td>-3.0</td>\n",
       "      <td>-3.0</td>\n",
       "      <td>-3.0</td>\n",
       "    </tr>\n",
       "    <tr>\n",
       "      <th>25%</th>\n",
       "      <td>-1.0</td>\n",
       "      <td>-1.0</td>\n",
       "      <td>-0.0</td>\n",
       "      <td>-1.0</td>\n",
       "      <td>-1.0</td>\n",
       "      <td>-1.0</td>\n",
       "    </tr>\n",
       "    <tr>\n",
       "      <th>50%</th>\n",
       "      <td>-0.0</td>\n",
       "      <td>-0.0</td>\n",
       "      <td>-0.0</td>\n",
       "      <td>-0.0</td>\n",
       "      <td>-0.0</td>\n",
       "      <td>-0.0</td>\n",
       "    </tr>\n",
       "    <tr>\n",
       "      <th>75%</th>\n",
       "      <td>1.0</td>\n",
       "      <td>1.0</td>\n",
       "      <td>0.0</td>\n",
       "      <td>1.0</td>\n",
       "      <td>1.0</td>\n",
       "      <td>1.0</td>\n",
       "    </tr>\n",
       "    <tr>\n",
       "      <th>max</th>\n",
       "      <td>3.0</td>\n",
       "      <td>3.0</td>\n",
       "      <td>3.0</td>\n",
       "      <td>3.0</td>\n",
       "      <td>3.0</td>\n",
       "      <td>3.0</td>\n",
       "    </tr>\n",
       "  </tbody>\n",
       "</table>\n",
       "</div>"
      ],
      "text/plain": [
       "            0       1       2       3       4       5\n",
       "count  3128.0  3128.0  3128.0  3128.0  3128.0  3128.0\n",
       "mean     -0.0     0.0     0.0    -0.0    -0.0    -0.0\n",
       "std       1.0     1.0     1.0     1.0     1.0     1.0\n",
       "min      -3.0    -3.0    -4.0    -3.0    -3.0    -3.0\n",
       "25%      -1.0    -1.0    -0.0    -1.0    -1.0    -1.0\n",
       "50%      -0.0    -0.0    -0.0    -0.0    -0.0    -0.0\n",
       "75%       1.0     1.0     0.0     1.0     1.0     1.0\n",
       "max       3.0     3.0     3.0     3.0     3.0     3.0"
      ]
     },
     "execution_count": 5,
     "metadata": {},
     "output_type": "execute_result"
    }
   ],
   "source": [
    "pd.DataFrame(y_train).describe().round()"
   ]
  },
  {
   "cell_type": "code",
   "execution_count": 6,
   "id": "32a8360f",
   "metadata": {
    "execution": {
     "iopub.execute_input": "2022-11-13T18:30:19.929133Z",
     "iopub.status.busy": "2022-11-13T18:30:19.928468Z",
     "iopub.status.idle": "2022-11-13T18:30:20.115033Z",
     "shell.execute_reply": "2022-11-13T18:30:20.113869Z"
    },
    "papermill": {
     "duration": 0.193662,
     "end_time": "2022-11-13T18:30:20.117308",
     "exception": false,
     "start_time": "2022-11-13T18:30:19.923646",
     "status": "completed"
    },
    "tags": []
   },
   "outputs": [
    {
     "name": "stdout",
     "output_type": "stream",
     "text": [
      "Model: \"model\"\n",
      "__________________________________________________________________________________________________\n",
      "Layer (type)                    Output Shape         Param #     Connected to                     \n",
      "==================================================================================================\n",
      "essay_input (InputLayer)        [(None, 6044)]       0                                            \n",
      "__________________________________________________________________________________________________\n",
      "length_input (InputLayer)       [(None, 1)]          0                                            \n",
      "__________________________________________________________________________________________________\n",
      "concatenate (Concatenate)       (None, 6045)         0           essay_input[0][0]                \n",
      "                                                                 length_input[0][0]               \n",
      "__________________________________________________________________________________________________\n",
      "embedding (Embedding)           (None, 6045, 64)     1855872     concatenate[0][0]                \n",
      "__________________________________________________________________________________________________\n",
      "conv1d (Conv1D)                 (None, 6045, 64)     12352       embedding[0][0]                  \n",
      "__________________________________________________________________________________________________\n",
      "dropout (Dropout)               (None, 6045, 64)     0           conv1d[0][0]                     \n",
      "__________________________________________________________________________________________________\n",
      "conv1d_1 (Conv1D)               (None, 6045, 32)     8224        dropout[0][0]                    \n",
      "__________________________________________________________________________________________________\n",
      "dropout_1 (Dropout)             (None, 6045, 32)     0           conv1d_1[0][0]                   \n",
      "__________________________________________________________________________________________________\n",
      "max_pooling1d_1 (MaxPooling1D)  (None, 3022, 32)     0           dropout_1[0][0]                  \n",
      "__________________________________________________________________________________________________\n",
      "global_average_pooling1d (Globa (None, 32)           0           max_pooling1d_1[0][0]            \n",
      "__________________________________________________________________________________________________\n",
      "dense_3 (Dense)                 (None, 16)           528         global_average_pooling1d[0][0]   \n",
      "__________________________________________________________________________________________________\n",
      "dropout_6 (Dropout)             (None, 16)           0           dense_3[0][0]                    \n",
      "__________________________________________________________________________________________________\n",
      "cohesion_prediction (Dense)     (None, 1)            17          dropout_6[0][0]                  \n",
      "__________________________________________________________________________________________________\n",
      "syntax_prediction (Dense)       (None, 1)            17          dropout_6[0][0]                  \n",
      "__________________________________________________________________________________________________\n",
      "vocabulary_prediction (Dense)   (None, 1)            17          dropout_6[0][0]                  \n",
      "__________________________________________________________________________________________________\n",
      "phraseology_prediction (Dense)  (None, 1)            17          dropout_6[0][0]                  \n",
      "__________________________________________________________________________________________________\n",
      "grammar_prediction (Dense)      (None, 1)            17          dropout_6[0][0]                  \n",
      "__________________________________________________________________________________________________\n",
      "conventions_prediction (Dense)  (None, 1)            17          dropout_6[0][0]                  \n",
      "==================================================================================================\n",
      "Total params: 1,877,078\n",
      "Trainable params: 1,877,078\n",
      "Non-trainable params: 0\n",
      "__________________________________________________________________________________________________\n"
     ]
    }
   ],
   "source": [
    "vocab_size_train =tokenizer.vocab_size + 2\n",
    "embedding_dim = 64\n",
    "tokenizer.vocab_size\n",
    "\n",
    "keras.backend.clear_session()\n",
    "#model\n",
    "essay_input = keras.Input(shape=(longest_essay_length,), name='essay_input' )\n",
    "\n",
    "length_input = keras.Input(shape=(1,), name='length_input') \n",
    "\n",
    "concated_layers = tf.keras.layers.Concatenate(axis=1)([essay_input, length_input, ])\n",
    "\n",
    "embedding = layers.Embedding(vocab_size_train, embedding_dim, name=\"embedding\")(concated_layers)\n",
    "\n",
    "conv_x =  layers.Conv1D( filters=64, kernel_size=3, padding='same', activation='relu')(embedding)\n",
    "conv_x =  layers.Dropout(rate=0.8)(conv_x)\n",
    "max_pooling_x = layers.MaxPooling1D()(conv_x)\n",
    "\n",
    "conv_x =  layers.Conv1D( filters=32, kernel_size=4, padding='same', activation='relu')(conv_x)\n",
    "conv_x =  layers.Dropout(rate=0.8)(conv_x)\n",
    "max_pooling_x = layers.MaxPooling1D()(conv_x)\n",
    "\n",
    "conv_x =  layers.Conv1D( filters=16, kernel_size=5, padding='same', activation='relu')(conv_x)\n",
    "conv_x =  layers.Dropout(rate=0.8)(conv_x)\n",
    "#max_pooling_x = layers.MaxPooling1D()(conv_x)\n",
    "\n",
    "#max_pooling_x = layers.MaxPooling1D()(conv_x)\n",
    "\n",
    "average_pooling_x = layers.GlobalAveragePooling1D()(max_pooling_x)\n",
    "\n",
    "#flattener = layers.Flatten()(average_pooling_x)\n",
    "\n",
    "dense_x = layers.Dense(16, activation=\"relu\")(average_pooling_x)\n",
    "dense_x =  layers.Dropout(rate=0.2)(dense_x)\n",
    "\n",
    "dense_x = layers.Dense(16, activation=\"relu\")(average_pooling_x)\n",
    "dense_x =  layers.Dropout(rate=0.2)(dense_x)\n",
    "\n",
    "dense_x = layers.Dense(16, activation=\"relu\")(average_pooling_x)\n",
    "dense_x =  layers.Dropout(rate=0.2)(dense_x)\n",
    "\n",
    "dense_x = layers.Dense(16, activation=\"relu\")(average_pooling_x)\n",
    "dense_x =  layers.Dropout(rate=0.2)(dense_x)\n",
    "\n",
    "\n",
    "cohesion_prediction = layers.Dense(1, use_bias=True, activation=None, name='cohesion_prediction')(dense_x)\n",
    "syntax_prediction = layers.Dense(1, use_bias=True, activation=None, name='syntax_prediction')(dense_x)\n",
    "vocabulary_prediction = layers.Dense(1, use_bias=True, activation=None, name='vocabulary_prediction')(dense_x)\n",
    "phraseology_prediction = layers.Dense(1, use_bias=True, activation=None, name='phraseology_prediction')(dense_x)\n",
    "grammar_prediction = layers.Dense(1, use_bias=True, activation=None, name='grammar_prediction')(dense_x)\n",
    "conventions_prediction = layers.Dense(1, use_bias=True, activation=None, name='conventions_prediction')(dense_x)\n",
    "\n",
    "grader = keras.Model(\n",
    "    inputs=[\n",
    "        essay_input,\n",
    "        length_input\n",
    "    ],\n",
    "    outputs=[\n",
    "        cohesion_prediction, \n",
    "        syntax_prediction,\n",
    "        vocabulary_prediction,\n",
    "        phraseology_prediction,\n",
    "        grammar_prediction,\n",
    "        conventions_prediction\n",
    "    ],\n",
    "    )\n",
    "\n",
    "grader.summary()"
   ]
  },
  {
   "cell_type": "code",
   "execution_count": 7,
   "id": "e34a57c5",
   "metadata": {
    "execution": {
     "iopub.execute_input": "2022-11-13T18:30:20.128165Z",
     "iopub.status.busy": "2022-11-13T18:30:20.126757Z",
     "iopub.status.idle": "2022-11-13T18:30:57.434173Z",
     "shell.execute_reply": "2022-11-13T18:30:57.433218Z"
    },
    "papermill": {
     "duration": 37.314685,
     "end_time": "2022-11-13T18:30:57.436384",
     "exception": false,
     "start_time": "2022-11-13T18:30:20.121699",
     "status": "completed"
    },
    "tags": []
   },
   "outputs": [
    {
     "name": "stdout",
     "output_type": "stream",
     "text": [
      "Epoch 1/10\n"
     ]
    },
    {
     "name": "stderr",
     "output_type": "stream",
     "text": [
      "2022-11-13 18:30:20.235138: I tensorflow/compiler/mlir/mlir_graph_optimization_pass.cc:185] None of the MLIR Optimization Passes are enabled (registered 2)\n",
      "2022-11-13 18:30:22.708550: I tensorflow/stream_executor/cuda/cuda_dnn.cc:369] Loaded cuDNN version 8005\n"
     ]
    },
    {
     "name": "stdout",
     "output_type": "stream",
     "text": [
      "88/88 [==============================] - 12s 37ms/step - loss: 4.7694 - cohesion_prediction_loss: 0.8001 - syntax_prediction_loss: 0.7694 - vocabulary_prediction_loss: 0.8017 - phraseology_prediction_loss: 0.8191 - grammar_prediction_loss: 0.7998 - conventions_prediction_loss: 0.7793 - cohesion_prediction_root_mean_squared_error: 1.0124 - syntax_prediction_root_mean_squared_error: 1.0055 - vocabulary_prediction_root_mean_squared_error: 1.0153 - phraseology_prediction_root_mean_squared_error: 1.0035 - grammar_prediction_root_mean_squared_error: 1.0061 - conventions_prediction_root_mean_squared_error: 1.0079 - val_loss: 4.6461 - val_cohesion_prediction_loss: 0.7816 - val_syntax_prediction_loss: 0.7335 - val_vocabulary_prediction_loss: 0.7765 - val_phraseology_prediction_loss: 0.8005 - val_grammar_prediction_loss: 0.7840 - val_conventions_prediction_loss: 0.7700 - val_cohesion_prediction_root_mean_squared_error: 0.9746 - val_syntax_prediction_root_mean_squared_error: 0.9607 - val_vocabulary_prediction_root_mean_squared_error: 0.9633 - val_phraseology_prediction_root_mean_squared_error: 0.9803 - val_grammar_prediction_root_mean_squared_error: 0.9538 - val_conventions_prediction_root_mean_squared_error: 0.9739\n",
      "Epoch 2/10\n",
      "88/88 [==============================] - 3s 32ms/step - loss: 4.6908 - cohesion_prediction_loss: 0.7888 - syntax_prediction_loss: 0.7645 - vocabulary_prediction_loss: 0.7671 - phraseology_prediction_loss: 0.7940 - grammar_prediction_loss: 0.8011 - conventions_prediction_loss: 0.7754 - cohesion_prediction_root_mean_squared_error: 1.0004 - syntax_prediction_root_mean_squared_error: 0.9906 - vocabulary_prediction_root_mean_squared_error: 0.9929 - phraseology_prediction_root_mean_squared_error: 1.0109 - grammar_prediction_root_mean_squared_error: 1.0082 - conventions_prediction_root_mean_squared_error: 1.0038 - val_loss: 4.5077 - val_cohesion_prediction_loss: 0.7577 - val_syntax_prediction_loss: 0.7255 - val_vocabulary_prediction_loss: 0.7047 - val_phraseology_prediction_loss: 0.7764 - val_grammar_prediction_loss: 0.7822 - val_conventions_prediction_loss: 0.7612 - val_cohesion_prediction_root_mean_squared_error: 0.9506 - val_syntax_prediction_root_mean_squared_error: 0.9297 - val_vocabulary_prediction_root_mean_squared_error: 0.8867 - val_phraseology_prediction_root_mean_squared_error: 0.9763 - val_grammar_prediction_root_mean_squared_error: 0.9517 - val_conventions_prediction_root_mean_squared_error: 0.9668\n",
      "Epoch 3/10\n",
      "88/88 [==============================] - 3s 32ms/step - loss: 4.4605 - cohesion_prediction_loss: 0.7476 - syntax_prediction_loss: 0.7328 - vocabulary_prediction_loss: 0.6712 - phraseology_prediction_loss: 0.7544 - grammar_prediction_loss: 0.7883 - conventions_prediction_loss: 0.7662 - cohesion_prediction_root_mean_squared_error: 0.9283 - syntax_prediction_root_mean_squared_error: 0.9247 - vocabulary_prediction_root_mean_squared_error: 0.8684 - phraseology_prediction_root_mean_squared_error: 0.9553 - grammar_prediction_root_mean_squared_error: 0.9780 - conventions_prediction_root_mean_squared_error: 0.9817 - val_loss: 4.2799 - val_cohesion_prediction_loss: 0.7145 - val_syntax_prediction_loss: 0.6954 - val_vocabulary_prediction_loss: 0.6398 - val_phraseology_prediction_loss: 0.7256 - val_grammar_prediction_loss: 0.7607 - val_conventions_prediction_loss: 0.7439 - val_cohesion_prediction_root_mean_squared_error: 0.8891 - val_syntax_prediction_root_mean_squared_error: 0.8808 - val_vocabulary_prediction_root_mean_squared_error: 0.8141 - val_phraseology_prediction_root_mean_squared_error: 0.8941 - val_grammar_prediction_root_mean_squared_error: 0.9084 - val_conventions_prediction_root_mean_squared_error: 0.9378\n",
      "Epoch 4/10\n",
      "88/88 [==============================] - 3s 31ms/step - loss: 4.1161 - cohesion_prediction_loss: 0.6808 - syntax_prediction_loss: 0.6807 - vocabulary_prediction_loss: 0.6380 - phraseology_prediction_loss: 0.6687 - grammar_prediction_loss: 0.7305 - conventions_prediction_loss: 0.7174 - cohesion_prediction_root_mean_squared_error: 0.8444 - syntax_prediction_root_mean_squared_error: 0.8547 - vocabulary_prediction_root_mean_squared_error: 0.8203 - phraseology_prediction_root_mean_squared_error: 0.8393 - grammar_prediction_root_mean_squared_error: 0.8920 - conventions_prediction_root_mean_squared_error: 0.8926 - val_loss: 4.1575 - val_cohesion_prediction_loss: 0.7001 - val_syntax_prediction_loss: 0.6702 - val_vocabulary_prediction_loss: 0.6319 - val_phraseology_prediction_loss: 0.7098 - val_grammar_prediction_loss: 0.7256 - val_conventions_prediction_loss: 0.7200 - val_cohesion_prediction_root_mean_squared_error: 0.8695 - val_syntax_prediction_root_mean_squared_error: 0.8423 - val_vocabulary_prediction_root_mean_squared_error: 0.8047 - val_phraseology_prediction_root_mean_squared_error: 0.8615 - val_grammar_prediction_root_mean_squared_error: 0.8628 - val_conventions_prediction_root_mean_squared_error: 0.8877\n",
      "Epoch 5/10\n",
      "88/88 [==============================] - 3s 33ms/step - loss: 3.8546 - cohesion_prediction_loss: 0.6492 - syntax_prediction_loss: 0.6419 - vocabulary_prediction_loss: 0.6059 - phraseology_prediction_loss: 0.6296 - grammar_prediction_loss: 0.6817 - conventions_prediction_loss: 0.6463 - cohesion_prediction_root_mean_squared_error: 0.8074 - syntax_prediction_root_mean_squared_error: 0.8078 - vocabulary_prediction_root_mean_squared_error: 0.7820 - phraseology_prediction_root_mean_squared_error: 0.7939 - grammar_prediction_root_mean_squared_error: 0.8414 - conventions_prediction_root_mean_squared_error: 0.8039 - val_loss: 4.0402 - val_cohesion_prediction_loss: 0.6853 - val_syntax_prediction_loss: 0.6548 - val_vocabulary_prediction_loss: 0.6199 - val_phraseology_prediction_loss: 0.6855 - val_grammar_prediction_loss: 0.7039 - val_conventions_prediction_loss: 0.6907 - val_cohesion_prediction_root_mean_squared_error: 0.8496 - val_syntax_prediction_root_mean_squared_error: 0.8198 - val_vocabulary_prediction_root_mean_squared_error: 0.7964 - val_phraseology_prediction_root_mean_squared_error: 0.8374 - val_grammar_prediction_root_mean_squared_error: 0.8332 - val_conventions_prediction_root_mean_squared_error: 0.8472\n",
      "Epoch 6/10\n",
      "88/88 [==============================] - 3s 33ms/step - loss: 3.6821 - cohesion_prediction_loss: 0.6272 - syntax_prediction_loss: 0.6136 - vocabulary_prediction_loss: 0.5814 - phraseology_prediction_loss: 0.5986 - grammar_prediction_loss: 0.6396 - conventions_prediction_loss: 0.6217 - cohesion_prediction_root_mean_squared_error: 0.7868 - syntax_prediction_root_mean_squared_error: 0.7772 - vocabulary_prediction_root_mean_squared_error: 0.7523 - phraseology_prediction_root_mean_squared_error: 0.7564 - grammar_prediction_root_mean_squared_error: 0.7976 - conventions_prediction_root_mean_squared_error: 0.7735 - val_loss: 4.0614 - val_cohesion_prediction_loss: 0.6844 - val_syntax_prediction_loss: 0.6589 - val_vocabulary_prediction_loss: 0.6333 - val_phraseology_prediction_loss: 0.7011 - val_grammar_prediction_loss: 0.6986 - val_conventions_prediction_loss: 0.6851 - val_cohesion_prediction_root_mean_squared_error: 0.8520 - val_syntax_prediction_root_mean_squared_error: 0.8272 - val_vocabulary_prediction_root_mean_squared_error: 0.8045 - val_phraseology_prediction_root_mean_squared_error: 0.8491 - val_grammar_prediction_root_mean_squared_error: 0.8345 - val_conventions_prediction_root_mean_squared_error: 0.8423\n",
      "Epoch 7/10\n",
      "88/88 [==============================] - 3s 32ms/step - loss: 3.5839 - cohesion_prediction_loss: 0.6085 - syntax_prediction_loss: 0.5981 - vocabulary_prediction_loss: 0.5657 - phraseology_prediction_loss: 0.5833 - grammar_prediction_loss: 0.6229 - conventions_prediction_loss: 0.6054 - cohesion_prediction_root_mean_squared_error: 0.7687 - syntax_prediction_root_mean_squared_error: 0.7549 - vocabulary_prediction_root_mean_squared_error: 0.7342 - phraseology_prediction_root_mean_squared_error: 0.7418 - grammar_prediction_root_mean_squared_error: 0.7758 - conventions_prediction_root_mean_squared_error: 0.7547 - val_loss: 3.9533 - val_cohesion_prediction_loss: 0.6785 - val_syntax_prediction_loss: 0.6458 - val_vocabulary_prediction_loss: 0.6170 - val_phraseology_prediction_loss: 0.6665 - val_grammar_prediction_loss: 0.6809 - val_conventions_prediction_loss: 0.6645 - val_cohesion_prediction_root_mean_squared_error: 0.8382 - val_syntax_prediction_root_mean_squared_error: 0.8078 - val_vocabulary_prediction_root_mean_squared_error: 0.7975 - val_phraseology_prediction_root_mean_squared_error: 0.8211 - val_grammar_prediction_root_mean_squared_error: 0.8064 - val_conventions_prediction_root_mean_squared_error: 0.8193\n",
      "Epoch 8/10\n",
      "88/88 [==============================] - 3s 32ms/step - loss: 3.4666 - cohesion_prediction_loss: 0.5826 - syntax_prediction_loss: 0.5684 - vocabulary_prediction_loss: 0.5493 - phraseology_prediction_loss: 0.5716 - grammar_prediction_loss: 0.6101 - conventions_prediction_loss: 0.5845 - cohesion_prediction_root_mean_squared_error: 0.7330 - syntax_prediction_root_mean_squared_error: 0.7173 - vocabulary_prediction_root_mean_squared_error: 0.7067 - phraseology_prediction_root_mean_squared_error: 0.7209 - grammar_prediction_root_mean_squared_error: 0.7631 - conventions_prediction_root_mean_squared_error: 0.7292 - val_loss: 4.0934 - val_cohesion_prediction_loss: 0.6892 - val_syntax_prediction_loss: 0.6662 - val_vocabulary_prediction_loss: 0.6386 - val_phraseology_prediction_loss: 0.7075 - val_grammar_prediction_loss: 0.6973 - val_conventions_prediction_loss: 0.6947 - val_cohesion_prediction_root_mean_squared_error: 0.8584 - val_syntax_prediction_root_mean_squared_error: 0.8304 - val_vocabulary_prediction_root_mean_squared_error: 0.8082 - val_phraseology_prediction_root_mean_squared_error: 0.8543 - val_grammar_prediction_root_mean_squared_error: 0.8355 - val_conventions_prediction_root_mean_squared_error: 0.8524\n",
      "Epoch 9/10\n",
      "88/88 [==============================] - 3s 32ms/step - loss: 3.3379 - cohesion_prediction_loss: 0.5652 - syntax_prediction_loss: 0.5553 - vocabulary_prediction_loss: 0.5248 - phraseology_prediction_loss: 0.5427 - grammar_prediction_loss: 0.5908 - conventions_prediction_loss: 0.5591 - cohesion_prediction_root_mean_squared_error: 0.7154 - syntax_prediction_root_mean_squared_error: 0.7017 - vocabulary_prediction_root_mean_squared_error: 0.6767 - phraseology_prediction_root_mean_squared_error: 0.6904 - grammar_prediction_root_mean_squared_error: 0.7365 - conventions_prediction_root_mean_squared_error: 0.7061 - val_loss: 4.0053 - val_cohesion_prediction_loss: 0.6770 - val_syntax_prediction_loss: 0.6562 - val_vocabulary_prediction_loss: 0.6160 - val_phraseology_prediction_loss: 0.6899 - val_grammar_prediction_loss: 0.6910 - val_conventions_prediction_loss: 0.6752 - val_cohesion_prediction_root_mean_squared_error: 0.8422 - val_syntax_prediction_root_mean_squared_error: 0.8160 - val_vocabulary_prediction_root_mean_squared_error: 0.7915 - val_phraseology_prediction_root_mean_squared_error: 0.8401 - val_grammar_prediction_root_mean_squared_error: 0.8270 - val_conventions_prediction_root_mean_squared_error: 0.8320\n",
      "Epoch 10/10\n",
      "88/88 [==============================] - 3s 32ms/step - loss: 3.2373 - cohesion_prediction_loss: 0.5500 - syntax_prediction_loss: 0.5330 - vocabulary_prediction_loss: 0.5171 - phraseology_prediction_loss: 0.5292 - grammar_prediction_loss: 0.5634 - conventions_prediction_loss: 0.5447 - cohesion_prediction_root_mean_squared_error: 0.6991 - syntax_prediction_root_mean_squared_error: 0.6754 - vocabulary_prediction_root_mean_squared_error: 0.6660 - phraseology_prediction_root_mean_squared_error: 0.6719 - grammar_prediction_root_mean_squared_error: 0.7093 - conventions_prediction_root_mean_squared_error: 0.6841 - val_loss: 4.0001 - val_cohesion_prediction_loss: 0.6790 - val_syntax_prediction_loss: 0.6549 - val_vocabulary_prediction_loss: 0.6264 - val_phraseology_prediction_loss: 0.6827 - val_grammar_prediction_loss: 0.6838 - val_conventions_prediction_loss: 0.6733 - val_cohesion_prediction_root_mean_squared_error: 0.8408 - val_syntax_prediction_root_mean_squared_error: 0.8177 - val_vocabulary_prediction_root_mean_squared_error: 0.8008 - val_phraseology_prediction_root_mean_squared_error: 0.8357 - val_grammar_prediction_root_mean_squared_error: 0.8182 - val_conventions_prediction_root_mean_squared_error: 0.8295\n"
     ]
    }
   ],
   "source": [
    "grader.compile(\n",
    "    optimizer=tf.keras.optimizers.Adam(),\n",
    "    loss='mean_absolute_error',\n",
    "    metrics=[tf.keras.metrics.RootMeanSquaredError(\n",
    "                name='root_mean_squared_error', dtype=None\n",
    "            )])\n",
    "\n",
    "hist = grader.fit(\n",
    "    x={\n",
    "        'essay_input': encoded_essays_train,\n",
    "        'length_input': essay_length_train\n",
    "    },\n",
    "    y={\n",
    "     'cohesion_prediction': encoded_cohesion_score, \n",
    "     'syntax_prediction': encoded_syntax_score,\n",
    "     'vocabulary_prediction': encoded_vocabulary_score,\n",
    "     'phraseology_prediction': encoded_phraseology_score,\n",
    "     'grammar_prediction': encoded_grammar_score,\n",
    "     'conventions_prediction': encoded_conventions_score\n",
    "    },\n",
    "    \n",
    "    batch_size=32,        # mini-batch size\n",
    "    validation_split=0.1, # use a fraction of the examples for validation\n",
    "    verbose=1,\n",
    "    epochs=10, \n",
    "    )"
   ]
  },
  {
   "cell_type": "code",
   "execution_count": 8,
   "id": "10e09e99",
   "metadata": {
    "execution": {
     "iopub.execute_input": "2022-11-13T18:30:57.501310Z",
     "iopub.status.busy": "2022-11-13T18:30:57.499832Z",
     "iopub.status.idle": "2022-11-13T18:30:59.894170Z",
     "shell.execute_reply": "2022-11-13T18:30:59.893276Z"
    },
    "papermill": {
     "duration": 2.42851,
     "end_time": "2022-11-13T18:30:59.896439",
     "exception": false,
     "start_time": "2022-11-13T18:30:57.467929",
     "status": "completed"
    },
    "tags": []
   },
   "outputs": [
    {
     "data": {
      "image/png": "[encoded data removed]",
      "text/plain": [
       "<Figure size 1152x288 with 1 Axes>"
      ]
     },
     "metadata": {
      "needs_background": "light"
     },
     "output_type": "display_data"
    },
    {
     "data": {
      "image/png": "[encoded data removed]",
      "text/plain": [
       "<Figure size 1152x288 with 2 Axes>"
      ]
     },
     "metadata": {
      "needs_background": "light"
     },
     "output_type": "display_data"
    },
    {
     "data": {
      "image/png": "[encoded data removed]",
      "text/plain": [
       "<Figure size 1152x288 with 2 Axes>"
      ]
     },
     "metadata": {
      "needs_background": "light"
     },
     "output_type": "display_data"
    },
    {
     "data": {
      "image/png": "[encoded data removed]",
      "text/plain": [
       "<Figure size 1152x288 with 2 Axes>"
      ]
     },
     "metadata": {
      "needs_background": "light"
     },
     "output_type": "display_data"
    },
    {
     "data": {
      "image/png": "[encoded data removed]",
      "text/plain": [
       "<Figure size 1152x288 with 2 Axes>"
      ]
     },
     "metadata": {
      "needs_background": "light"
     },
     "output_type": "display_data"
    },
    {
     "data": {
      "image/png": "[encoded data removed]",
      "text/plain": [
       "<Figure size 1152x288 with 2 Axes>"
      ]
     },
     "metadata": {
      "needs_background": "light"
     },
     "output_type": "display_data"
    },
    {
     "data": {
      "image/png": "[encoded data removed]",
      "text/plain": [
       "<Figure size 1152x288 with 2 Axes>"
      ]
     },
     "metadata": {
      "needs_background": "light"
     },
     "output_type": "display_data"
    }
   ],
   "source": [
    "# grab history\n",
    "history = hist.history\n",
    "\n",
    "outputs = [ 'cohesion_prediction', 'syntax_prediction', 'vocabulary_prediction', 'phraseology_prediction', 'grammar_prediction', 'conventions_prediction' ]\n",
    "\n",
    "fig = plt.figure(figsize=(16, 4))\n",
    "ax = fig.add_subplot(1, 3, 1)\n",
    "\n",
    "plt.plot(history['loss'], lw=2, color='darkgoldenrod')\n",
    "plt.plot(history['val_loss'], lw=2, color='indianred')\n",
    "plt.legend(['Train', 'Validation'], fontsize=10)\n",
    "#plt.ylim(0.5,0.7)\n",
    "ax.set_xlabel('Epochs', size=10)\n",
    "ax.set_title('Loss');\n",
    "    \n",
    "\n",
    "for output in outputs:\n",
    "    # plot loss for train and validation\n",
    "    fig = plt.figure(figsize=(16, 4))\n",
    "    ax = fig.add_subplot(1, 3, 1)\n",
    "\n",
    "    plt.plot(history[f'{output}_loss'], lw=2, color='darkgoldenrod')\n",
    "    plt.plot(history[f'val_{output}_loss'], lw=2, color='indianred')\n",
    "    plt.legend(['Train', 'Validation'], fontsize=10)\n",
    "    #plt.ylim(0.5,0.7)\n",
    "    ax.set_xlabel('Epochs', size=10)\n",
    "    ax.set_title(f'{output} Loss');\n",
    "\n",
    "    # plot accuracy for train and validation\n",
    "    ax = fig.add_subplot(1, 3, 2)\n",
    "    plt.plot(history[f'{output}_root_mean_squared_error'], lw=2, color='darkgoldenrod')\n",
    "    plt.plot(history[f'val_{output}_root_mean_squared_error'], lw=2, color='indianred')\n",
    "    plt.legend(['Train', 'Validation'], fontsize=10)\n",
    "    #plt.ylim(0.7,0.8)\n",
    "    ax.set_xlabel('Epochs', size=5)\n",
    "    ax.set_title(f'{output} RMSE');\n"
   ]
  },
  {
   "cell_type": "code",
   "execution_count": 9,
   "id": "ca03f2ff",
   "metadata": {
    "execution": {
     "iopub.execute_input": "2022-11-13T18:30:59.967616Z",
     "iopub.status.busy": "2022-11-13T18:30:59.966764Z",
     "iopub.status.idle": "2022-11-13T18:31:00.751407Z",
     "shell.execute_reply": "2022-11-13T18:31:00.750405Z"
    },
    "papermill": {
     "duration": 0.82287,
     "end_time": "2022-11-13T18:31:00.753545",
     "exception": false,
     "start_time": "2022-11-13T18:30:59.930675",
     "status": "completed"
    },
    "tags": []
   },
   "outputs": [
    {
     "data": {
      "text/html": [
       "<div>\n",
       "<style scoped>\n",
       "    .dataframe tbody tr th:only-of-type {\n",
       "        vertical-align: middle;\n",
       "    }\n",
       "\n",
       "    .dataframe tbody tr th {\n",
       "        vertical-align: top;\n",
       "    }\n",
       "\n",
       "    .dataframe thead th {\n",
       "        text-align: right;\n",
       "    }\n",
       "</style>\n",
       "<table border=\"1\" class=\"dataframe\">\n",
       "  <thead>\n",
       "    <tr style=\"text-align: right;\">\n",
       "      <th></th>\n",
       "      <th>0</th>\n",
       "      <th>1</th>\n",
       "      <th>2</th>\n",
       "      <th>3</th>\n",
       "      <th>4</th>\n",
       "      <th>5</th>\n",
       "    </tr>\n",
       "  </thead>\n",
       "  <tbody>\n",
       "    <tr>\n",
       "      <th>0</th>\n",
       "      <td>3.241279</td>\n",
       "      <td>3.125349</td>\n",
       "      <td>3.293307</td>\n",
       "      <td>3.212810</td>\n",
       "      <td>3.107881</td>\n",
       "      <td>3.197003</td>\n",
       "    </tr>\n",
       "    <tr>\n",
       "      <th>1</th>\n",
       "      <td>3.317878</td>\n",
       "      <td>3.239471</td>\n",
       "      <td>3.397671</td>\n",
       "      <td>3.299034</td>\n",
       "      <td>3.159870</td>\n",
       "      <td>3.276702</td>\n",
       "    </tr>\n",
       "    <tr>\n",
       "      <th>2</th>\n",
       "      <td>3.620213</td>\n",
       "      <td>3.543096</td>\n",
       "      <td>3.674330</td>\n",
       "      <td>3.602044</td>\n",
       "      <td>3.528321</td>\n",
       "      <td>3.566765</td>\n",
       "    </tr>\n",
       "    <tr>\n",
       "      <th>3</th>\n",
       "      <td>3.555876</td>\n",
       "      <td>3.449860</td>\n",
       "      <td>3.593807</td>\n",
       "      <td>3.533304</td>\n",
       "      <td>3.466505</td>\n",
       "      <td>3.501306</td>\n",
       "    </tr>\n",
       "    <tr>\n",
       "      <th>4</th>\n",
       "      <td>2.924085</td>\n",
       "      <td>2.832217</td>\n",
       "      <td>3.039717</td>\n",
       "      <td>2.897179</td>\n",
       "      <td>2.806909</td>\n",
       "      <td>2.873914</td>\n",
       "    </tr>\n",
       "    <tr>\n",
       "      <th>...</th>\n",
       "      <td>...</td>\n",
       "      <td>...</td>\n",
       "      <td>...</td>\n",
       "      <td>...</td>\n",
       "      <td>...</td>\n",
       "      <td>...</td>\n",
       "    </tr>\n",
       "    <tr>\n",
       "      <th>3123</th>\n",
       "      <td>2.850021</td>\n",
       "      <td>2.768718</td>\n",
       "      <td>2.987351</td>\n",
       "      <td>2.829152</td>\n",
       "      <td>2.742927</td>\n",
       "      <td>2.796955</td>\n",
       "    </tr>\n",
       "    <tr>\n",
       "      <th>3124</th>\n",
       "      <td>3.285586</td>\n",
       "      <td>3.203350</td>\n",
       "      <td>3.365017</td>\n",
       "      <td>3.267036</td>\n",
       "      <td>3.122619</td>\n",
       "      <td>3.245413</td>\n",
       "    </tr>\n",
       "    <tr>\n",
       "      <th>3125</th>\n",
       "      <td>2.982699</td>\n",
       "      <td>2.884980</td>\n",
       "      <td>3.084501</td>\n",
       "      <td>2.955549</td>\n",
       "      <td>2.850874</td>\n",
       "      <td>2.935776</td>\n",
       "    </tr>\n",
       "    <tr>\n",
       "      <th>3126</th>\n",
       "      <td>3.392601</td>\n",
       "      <td>3.299811</td>\n",
       "      <td>3.454549</td>\n",
       "      <td>3.368419</td>\n",
       "      <td>3.258530</td>\n",
       "      <td>3.346508</td>\n",
       "    </tr>\n",
       "    <tr>\n",
       "      <th>3127</th>\n",
       "      <td>3.179757</td>\n",
       "      <td>3.092010</td>\n",
       "      <td>3.264298</td>\n",
       "      <td>3.157423</td>\n",
       "      <td>2.995991</td>\n",
       "      <td>3.143130</td>\n",
       "    </tr>\n",
       "  </tbody>\n",
       "</table>\n",
       "<p>3128 rows × 6 columns</p>\n",
       "</div>"
      ],
      "text/plain": [
       "             0         1         2         3         4         5\n",
       "0     3.241279  3.125349  3.293307  3.212810  3.107881  3.197003\n",
       "1     3.317878  3.239471  3.397671  3.299034  3.159870  3.276702\n",
       "2     3.620213  3.543096  3.674330  3.602044  3.528321  3.566765\n",
       "3     3.555876  3.449860  3.593807  3.533304  3.466505  3.501306\n",
       "4     2.924085  2.832217  3.039717  2.897179  2.806909  2.873914\n",
       "...        ...       ...       ...       ...       ...       ...\n",
       "3123  2.850021  2.768718  2.987351  2.829152  2.742927  2.796955\n",
       "3124  3.285586  3.203350  3.365017  3.267036  3.122619  3.245413\n",
       "3125  2.982699  2.884980  3.084501  2.955549  2.850874  2.935776\n",
       "3126  3.392601  3.299811  3.454549  3.368419  3.258530  3.346508\n",
       "3127  3.179757  3.092010  3.264298  3.157423  2.995991  3.143130\n",
       "\n",
       "[3128 rows x 6 columns]"
      ]
     },
     "execution_count": 9,
     "metadata": {},
     "output_type": "execute_result"
    }
   ],
   "source": [
    "predictions = grader.predict(\n",
    "                            {\n",
    "                'essay_input': encoded_essays_train,\n",
    "                'length_input': essay_length_train\n",
    "            })\n",
    "predictions = pd.DataFrame(np.array(predictions).reshape(6,-1)).T\n",
    "predictions = sc_y.inverse_transform(predictions.values)\n",
    "predictions = pd.DataFrame(predictions)\n",
    "predictions"
   ]
  },
  {
   "cell_type": "code",
   "execution_count": 10,
   "id": "ba0fb318",
   "metadata": {
    "execution": {
     "iopub.execute_input": "2022-11-13T18:31:00.829071Z",
     "iopub.status.busy": "2022-11-13T18:31:00.828355Z",
     "iopub.status.idle": "2022-11-13T18:31:00.856603Z",
     "shell.execute_reply": "2022-11-13T18:31:00.855411Z"
    },
    "papermill": {
     "duration": 0.068481,
     "end_time": "2022-11-13T18:31:00.858668",
     "exception": false,
     "start_time": "2022-11-13T18:31:00.790187",
     "status": "completed"
    },
    "tags": []
   },
   "outputs": [
    {
     "data": {
      "text/html": [
       "<div>\n",
       "<style scoped>\n",
       "    .dataframe tbody tr th:only-of-type {\n",
       "        vertical-align: middle;\n",
       "    }\n",
       "\n",
       "    .dataframe tbody tr th {\n",
       "        vertical-align: top;\n",
       "    }\n",
       "\n",
       "    .dataframe thead th {\n",
       "        text-align: right;\n",
       "    }\n",
       "</style>\n",
       "<table border=\"1\" class=\"dataframe\">\n",
       "  <thead>\n",
       "    <tr style=\"text-align: right;\">\n",
       "      <th></th>\n",
       "      <th>0</th>\n",
       "      <th>1</th>\n",
       "      <th>2</th>\n",
       "      <th>3</th>\n",
       "      <th>4</th>\n",
       "      <th>5</th>\n",
       "    </tr>\n",
       "  </thead>\n",
       "  <tbody>\n",
       "    <tr>\n",
       "      <th>count</th>\n",
       "      <td>3128.000000</td>\n",
       "      <td>3128.000000</td>\n",
       "      <td>3128.000000</td>\n",
       "      <td>3128.000000</td>\n",
       "      <td>3128.000000</td>\n",
       "      <td>3128.000000</td>\n",
       "    </tr>\n",
       "    <tr>\n",
       "      <th>mean</th>\n",
       "      <td>3.148151</td>\n",
       "      <td>3.055194</td>\n",
       "      <td>3.240632</td>\n",
       "      <td>3.130765</td>\n",
       "      <td>3.012033</td>\n",
       "      <td>3.101220</td>\n",
       "    </tr>\n",
       "    <tr>\n",
       "      <th>std</th>\n",
       "      <td>0.265605</td>\n",
       "      <td>0.259836</td>\n",
       "      <td>0.226037</td>\n",
       "      <td>0.256212</td>\n",
       "      <td>0.273448</td>\n",
       "      <td>0.266507</td>\n",
       "    </tr>\n",
       "    <tr>\n",
       "      <th>min</th>\n",
       "      <td>1.833561</td>\n",
       "      <td>1.897766</td>\n",
       "      <td>2.321045</td>\n",
       "      <td>2.034925</td>\n",
       "      <td>1.721045</td>\n",
       "      <td>1.756146</td>\n",
       "    </tr>\n",
       "    <tr>\n",
       "      <th>25%</th>\n",
       "      <td>2.936786</td>\n",
       "      <td>2.841476</td>\n",
       "      <td>3.054165</td>\n",
       "      <td>2.922988</td>\n",
       "      <td>2.797575</td>\n",
       "      <td>2.888792</td>\n",
       "    </tr>\n",
       "    <tr>\n",
       "      <th>50%</th>\n",
       "      <td>3.161957</td>\n",
       "      <td>3.061704</td>\n",
       "      <td>3.236414</td>\n",
       "      <td>3.139743</td>\n",
       "      <td>3.004244</td>\n",
       "      <td>3.120142</td>\n",
       "    </tr>\n",
       "    <tr>\n",
       "      <th>75%</th>\n",
       "      <td>3.331633</td>\n",
       "      <td>3.226443</td>\n",
       "      <td>3.388432</td>\n",
       "      <td>3.300388</td>\n",
       "      <td>3.191246</td>\n",
       "      <td>3.286255</td>\n",
       "    </tr>\n",
       "    <tr>\n",
       "      <th>max</th>\n",
       "      <td>4.250905</td>\n",
       "      <td>4.237731</td>\n",
       "      <td>4.300357</td>\n",
       "      <td>4.270548</td>\n",
       "      <td>4.268647</td>\n",
       "      <td>4.179817</td>\n",
       "    </tr>\n",
       "  </tbody>\n",
       "</table>\n",
       "</div>"
      ],
      "text/plain": [
       "                 0            1            2            3            4  \\\n",
       "count  3128.000000  3128.000000  3128.000000  3128.000000  3128.000000   \n",
       "mean      3.148151     3.055194     3.240632     3.130765     3.012033   \n",
       "std       0.265605     0.259836     0.226037     0.256212     0.273448   \n",
       "min       1.833561     1.897766     2.321045     2.034925     1.721045   \n",
       "25%       2.936786     2.841476     3.054165     2.922988     2.797575   \n",
       "50%       3.161957     3.061704     3.236414     3.139743     3.004244   \n",
       "75%       3.331633     3.226443     3.388432     3.300388     3.191246   \n",
       "max       4.250905     4.237731     4.300357     4.270548     4.268647   \n",
       "\n",
       "                 5  \n",
       "count  3128.000000  \n",
       "mean      3.101220  \n",
       "std       0.266507  \n",
       "min       1.756146  \n",
       "25%       2.888792  \n",
       "50%       3.120142  \n",
       "75%       3.286255  \n",
       "max       4.179817  "
      ]
     },
     "execution_count": 10,
     "metadata": {},
     "output_type": "execute_result"
    }
   ],
   "source": [
    "predictions.describe()"
   ]
  },
  {
   "cell_type": "code",
   "execution_count": 11,
   "id": "1ba8baee",
   "metadata": {
    "execution": {
     "iopub.execute_input": "2022-11-13T18:31:00.931170Z",
     "iopub.status.busy": "2022-11-13T18:31:00.930877Z",
     "iopub.status.idle": "2022-11-13T18:31:00.993232Z",
     "shell.execute_reply": "2022-11-13T18:31:00.992262Z"
    },
    "papermill": {
     "duration": 0.101743,
     "end_time": "2022-11-13T18:31:00.995303",
     "exception": false,
     "start_time": "2022-11-13T18:31:00.893560",
     "status": "completed"
    },
    "tags": []
   },
   "outputs": [
    {
     "data": {
      "text/html": [
       "<div>\n",
       "<style scoped>\n",
       "    .dataframe tbody tr th:only-of-type {\n",
       "        vertical-align: middle;\n",
       "    }\n",
       "\n",
       "    .dataframe tbody tr th {\n",
       "        vertical-align: top;\n",
       "    }\n",
       "\n",
       "    .dataframe thead th {\n",
       "        text-align: right;\n",
       "    }\n",
       "</style>\n",
       "<table border=\"1\" class=\"dataframe\">\n",
       "  <thead>\n",
       "    <tr style=\"text-align: right;\">\n",
       "      <th></th>\n",
       "      <th>0</th>\n",
       "      <th>1</th>\n",
       "      <th>2</th>\n",
       "      <th>3</th>\n",
       "      <th>4</th>\n",
       "      <th>5</th>\n",
       "    </tr>\n",
       "  </thead>\n",
       "  <tbody>\n",
       "    <tr>\n",
       "      <th>0</th>\n",
       "      <td>3.065578</td>\n",
       "      <td>2.961820</td>\n",
       "      <td>3.169261</td>\n",
       "      <td>3.082067</td>\n",
       "      <td>2.836388</td>\n",
       "      <td>3.032144</td>\n",
       "    </tr>\n",
       "    <tr>\n",
       "      <th>1</th>\n",
       "      <td>2.940203</td>\n",
       "      <td>2.845821</td>\n",
       "      <td>3.056287</td>\n",
       "      <td>2.920976</td>\n",
       "      <td>2.800579</td>\n",
       "      <td>2.892757</td>\n",
       "    </tr>\n",
       "    <tr>\n",
       "      <th>2</th>\n",
       "      <td>3.276727</td>\n",
       "      <td>3.168979</td>\n",
       "      <td>3.337244</td>\n",
       "      <td>3.246130</td>\n",
       "      <td>3.124673</td>\n",
       "      <td>3.233435</td>\n",
       "    </tr>\n",
       "  </tbody>\n",
       "</table>\n",
       "</div>"
      ],
      "text/plain": [
       "          0         1         2         3         4         5\n",
       "0  3.065578  2.961820  3.169261  3.082067  2.836388  3.032144\n",
       "1  2.940203  2.845821  3.056287  2.920976  2.800579  2.892757\n",
       "2  3.276727  3.168979  3.337244  3.246130  3.124673  3.233435"
      ]
     },
     "execution_count": 11,
     "metadata": {},
     "output_type": "execute_result"
    }
   ],
   "source": [
    "test_predictions = grader.predict(\n",
    "                    {\n",
    "                'essay_input': encoded_essays_test,\n",
    "                'length_input': essay_length_test\n",
    "            }\n",
    "        )\n",
    "test_predictions = pd.DataFrame(np.array(test_predictions).reshape(6,-1)).T\n",
    "test_predictions = sc_y.inverse_transform(test_predictions.values)\n",
    "test_predictions = pd.DataFrame(test_predictions)\n",
    "test_predictions\n",
    "# test_predictions"
   ]
  },
  {
   "cell_type": "code",
   "execution_count": 12,
   "id": "e0379c2c",
   "metadata": {
    "execution": {
     "iopub.execute_input": "2022-11-13T18:31:01.069897Z",
     "iopub.status.busy": "2022-11-13T18:31:01.068205Z",
     "iopub.status.idle": "2022-11-13T18:31:01.086180Z",
     "shell.execute_reply": "2022-11-13T18:31:01.085238Z"
    },
    "papermill": {
     "duration": 0.057674,
     "end_time": "2022-11-13T18:31:01.088308",
     "exception": false,
     "start_time": "2022-11-13T18:31:01.030634",
     "status": "completed"
    },
    "tags": []
   },
   "outputs": [
    {
     "data": {
      "text/html": [
       "<div>\n",
       "<style scoped>\n",
       "    .dataframe tbody tr th:only-of-type {\n",
       "        vertical-align: middle;\n",
       "    }\n",
       "\n",
       "    .dataframe tbody tr th {\n",
       "        vertical-align: top;\n",
       "    }\n",
       "\n",
       "    .dataframe thead th {\n",
       "        text-align: right;\n",
       "    }\n",
       "</style>\n",
       "<table border=\"1\" class=\"dataframe\">\n",
       "  <thead>\n",
       "    <tr style=\"text-align: right;\">\n",
       "      <th></th>\n",
       "      <th>text_id</th>\n",
       "      <th>full_text</th>\n",
       "      <th>cohesion</th>\n",
       "      <th>syntax</th>\n",
       "      <th>vocabulary</th>\n",
       "      <th>phraseology</th>\n",
       "      <th>grammar</th>\n",
       "      <th>conventions</th>\n",
       "    </tr>\n",
       "  </thead>\n",
       "  <tbody>\n",
       "    <tr>\n",
       "      <th>0</th>\n",
       "      <td>0000C359D63E</td>\n",
       "      <td>when a person has no experience on a job their...</td>\n",
       "      <td>3.065578</td>\n",
       "      <td>2.961820</td>\n",
       "      <td>3.169261</td>\n",
       "      <td>3.082067</td>\n",
       "      <td>2.836388</td>\n",
       "      <td>3.032144</td>\n",
       "    </tr>\n",
       "    <tr>\n",
       "      <th>1</th>\n",
       "      <td>000BAD50D026</td>\n",
       "      <td>Do you think students would benefit from being...</td>\n",
       "      <td>2.940203</td>\n",
       "      <td>2.845821</td>\n",
       "      <td>3.056287</td>\n",
       "      <td>2.920976</td>\n",
       "      <td>2.800579</td>\n",
       "      <td>2.892757</td>\n",
       "    </tr>\n",
       "    <tr>\n",
       "      <th>2</th>\n",
       "      <td>00367BB2546B</td>\n",
       "      <td>Thomas Jefferson once states that \"it is wonde...</td>\n",
       "      <td>3.276727</td>\n",
       "      <td>3.168979</td>\n",
       "      <td>3.337244</td>\n",
       "      <td>3.246130</td>\n",
       "      <td>3.124673</td>\n",
       "      <td>3.233435</td>\n",
       "    </tr>\n",
       "  </tbody>\n",
       "</table>\n",
       "</div>"
      ],
      "text/plain": [
       "        text_id                                          full_text  cohesion  \\\n",
       "0  0000C359D63E  when a person has no experience on a job their...  3.065578   \n",
       "1  000BAD50D026  Do you think students would benefit from being...  2.940203   \n",
       "2  00367BB2546B  Thomas Jefferson once states that \"it is wonde...  3.276727   \n",
       "\n",
       "     syntax  vocabulary  phraseology   grammar  conventions  \n",
       "0  2.961820    3.169261     3.082067  2.836388     3.032144  \n",
       "1  2.845821    3.056287     2.920976  2.800579     2.892757  \n",
       "2  3.168979    3.337244     3.246130  3.124673     3.233435  "
      ]
     },
     "execution_count": 12,
     "metadata": {},
     "output_type": "execute_result"
    }
   ],
   "source": [
    "test['cohesion'] = test_predictions[0]\n",
    "test['syntax'] = test_predictions[1]\n",
    "test['vocabulary'] = test_predictions[2]\n",
    "test['phraseology'] = test_predictions[3]\n",
    "test['grammar'] = test_predictions[4]\n",
    "test['conventions'] = test_predictions[5]\n",
    "test"
   ]
  },
  {
   "cell_type": "code",
   "execution_count": 13,
   "id": "dde876a1",
   "metadata": {
    "execution": {
     "iopub.execute_input": "2022-11-13T18:31:01.161876Z",
     "iopub.status.busy": "2022-11-13T18:31:01.161282Z",
     "iopub.status.idle": "2022-11-13T18:31:01.173477Z",
     "shell.execute_reply": "2022-11-13T18:31:01.172496Z"
    },
    "papermill": {
     "duration": 0.051371,
     "end_time": "2022-11-13T18:31:01.175579",
     "exception": false,
     "start_time": "2022-11-13T18:31:01.124208",
     "status": "completed"
    },
    "tags": []
   },
   "outputs": [
    {
     "data": {
      "text/html": [
       "<div>\n",
       "<style scoped>\n",
       "    .dataframe tbody tr th:only-of-type {\n",
       "        vertical-align: middle;\n",
       "    }\n",
       "\n",
       "    .dataframe tbody tr th {\n",
       "        vertical-align: top;\n",
       "    }\n",
       "\n",
       "    .dataframe thead th {\n",
       "        text-align: right;\n",
       "    }\n",
       "</style>\n",
       "<table border=\"1\" class=\"dataframe\">\n",
       "  <thead>\n",
       "    <tr style=\"text-align: right;\">\n",
       "      <th></th>\n",
       "      <th>text_id</th>\n",
       "      <th>full_text</th>\n",
       "      <th>cohesion</th>\n",
       "      <th>syntax</th>\n",
       "      <th>vocabulary</th>\n",
       "      <th>phraseology</th>\n",
       "      <th>grammar</th>\n",
       "      <th>conventions</th>\n",
       "    </tr>\n",
       "  </thead>\n",
       "  <tbody>\n",
       "    <tr>\n",
       "      <th>0</th>\n",
       "      <td>0000C359D63E</td>\n",
       "      <td>when a person has no experience on a job their...</td>\n",
       "      <td>3.065578</td>\n",
       "      <td>2.961820</td>\n",
       "      <td>3.169261</td>\n",
       "      <td>3.082067</td>\n",
       "      <td>2.836388</td>\n",
       "      <td>3.032144</td>\n",
       "    </tr>\n",
       "    <tr>\n",
       "      <th>1</th>\n",
       "      <td>000BAD50D026</td>\n",
       "      <td>Do you think students would benefit from being...</td>\n",
       "      <td>2.940203</td>\n",
       "      <td>2.845821</td>\n",
       "      <td>3.056287</td>\n",
       "      <td>2.920976</td>\n",
       "      <td>2.800579</td>\n",
       "      <td>2.892757</td>\n",
       "    </tr>\n",
       "    <tr>\n",
       "      <th>2</th>\n",
       "      <td>00367BB2546B</td>\n",
       "      <td>Thomas Jefferson once states that \"it is wonde...</td>\n",
       "      <td>3.276727</td>\n",
       "      <td>3.168979</td>\n",
       "      <td>3.337244</td>\n",
       "      <td>3.246130</td>\n",
       "      <td>3.124673</td>\n",
       "      <td>3.233435</td>\n",
       "    </tr>\n",
       "  </tbody>\n",
       "</table>\n",
       "</div>"
      ],
      "text/plain": [
       "        text_id                                          full_text  cohesion  \\\n",
       "0  0000C359D63E  when a person has no experience on a job their...  3.065578   \n",
       "1  000BAD50D026  Do you think students would benefit from being...  2.940203   \n",
       "2  00367BB2546B  Thomas Jefferson once states that \"it is wonde...  3.276727   \n",
       "\n",
       "     syntax  vocabulary  phraseology   grammar  conventions  \n",
       "0  2.961820    3.169261     3.082067  2.836388     3.032144  \n",
       "1  2.845821    3.056287     2.920976  2.800579     2.892757  \n",
       "2  3.168979    3.337244     3.246130  3.124673     3.233435  "
      ]
     },
     "execution_count": 13,
     "metadata": {},
     "output_type": "execute_result"
    }
   ],
   "source": [
    "test"
   ]
  },
  {
   "cell_type": "code",
   "execution_count": 14,
   "id": "7b061df5",
   "metadata": {
    "execution": {
     "iopub.execute_input": "2022-11-13T18:31:01.249318Z",
     "iopub.status.busy": "2022-11-13T18:31:01.248973Z",
     "iopub.status.idle": "2022-11-13T18:31:01.257373Z",
     "shell.execute_reply": "2022-11-13T18:31:01.256490Z"
    },
    "papermill": {
     "duration": 0.048174,
     "end_time": "2022-11-13T18:31:01.259551",
     "exception": false,
     "start_time": "2022-11-13T18:31:01.211377",
     "status": "completed"
    },
    "tags": []
   },
   "outputs": [],
   "source": [
    "res = test.drop(\"full_text\",axis=1)\n",
    "res.to_csv(\"/kaggle/working/submission.csv\",index=False)"
   ]
  },
  {
   "cell_type": "code",
   "execution_count": null,
   "id": "3f7b2455",
   "metadata": {
    "papermill": {
     "duration": 0.035615,
     "end_time": "2022-11-13T18:31:01.331466",
     "exception": false,
     "start_time": "2022-11-13T18:31:01.295851",
     "status": "completed"
    },
    "tags": []
   },
   "outputs": [],
   "source": []
  }
 ],
 "metadata": {
  "kernelspec": {
   "display_name": "Python 3",
   "language": "python",
   "name": "python3"
  },
  "language_info": {
   "codemirror_mode": {
    "name": "ipython",
    "version": 3
   },
   "file_extension": ".py",
   "mimetype": "text/x-python",
   "name": "python",
   "nbconvert_exporter": "python",
   "pygments_lexer": "ipython3",
   "version": "3.7.12"
  },
  "papermill": {
   "default_parameters": {},
   "duration": 96.302959,
   "end_time": "2022-11-13T18:31:04.564645",
   "environment_variables": {},
   "exception": null,
   "input_path": "__notebook__.ipynb",
   "output_path": "__notebook__.ipynb",
   "parameters": {},
   "start_time": "2022-11-13T18:29:28.261686",
   "version": "2.3.4"
  }
 },
 "nbformat": 4,
 "nbformat_minor": 5
}
